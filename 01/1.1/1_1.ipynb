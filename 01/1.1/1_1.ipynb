{
 "cells": [
  {
   "cell_type": "code",
   "execution_count": 42,
   "id": "0e09a4de",
   "metadata": {},
   "outputs": [],
   "source": [
    "import statistics"
   ]
  },
  {
   "cell_type": "markdown",
   "id": "fad81ea9",
   "metadata": {},
   "source": [
    "## Funkcja służąca do analizy"
   ]
  },
  {
   "cell_type": "code",
   "execution_count": null,
   "id": "300a3d58",
   "metadata": {},
   "outputs": [],
   "source": [
    "def analyze(arg):\n",
    "    print('Mediana podanych liczb wynosi: ', statistics.median(arg))\n",
    "    print('Maksymalna liczba to: ', max(arg))\n",
    "    print('Minimalna liczba to: ', min(arg))\n",
    "    print(\"Średnia wynosi\", round(sum(arg)/ len(arg)))"
   ]
  },
  {
   "cell_type": "markdown",
   "id": "bde3c6f3",
   "metadata": {},
   "source": [
    "##  Wczytywanie danych od użytkownika"
   ]
  },
  {
   "cell_type": "code",
   "execution_count": 44,
   "id": "a42ffc2e",
   "metadata": {},
   "outputs": [],
   "source": [
    "try:  \n",
    "    inp= input(\"Podaj liczby oddzielone spacją\")\n",
    "    text = inp.split()\n",
    "    numbers =[]\n",
    "\n",
    "    for i in text:\n",
    "        i = float(i)\n",
    "        numbers.append(i)\n",
    "except ValueError:\n",
    "    print(\"Wprowadź liczby! - uruchom ponownie\")"
   ]
  },
  {
   "cell_type": "markdown",
   "id": "dc483459",
   "metadata": {},
   "source": [
    "## Analiza: min, max, średnia, mediana"
   ]
  },
  {
   "cell_type": "code",
   "execution_count": null,
   "id": "cad512f1",
   "metadata": {},
   "outputs": [
    {
     "name": "stdout",
     "output_type": "stream",
     "text": [
      "Mediana podanych liczb wynosi:  56.0\n",
      "Maksymalna liczba to:  5745.0\n",
      "Minimalna liczba to:  3.0\n",
      "Średnia wynosi 1425\n"
     ]
    }
   ],
   "source": [
    "analyze(numbers)\n",
    "    "
   ]
  },
  {
   "cell_type": "markdown",
   "id": "aa534bff",
   "metadata": {},
   "source": [
    "## Wczytanie losowych liczb\n"
   ]
  },
  {
   "cell_type": "code",
   "execution_count": 46,
   "id": "872ceb05",
   "metadata": {},
   "outputs": [],
   "source": [
    "import random\n",
    "start = random.randint(1,10)\n",
    "stop = random.randint(11,100)\n",
    "step = random.randint(1,10)\n",
    "data = []\n",
    "\n",
    "for x in range(start,stop,step):\n",
    "    data.append(x)\n"
   ]
  },
  {
   "cell_type": "markdown",
   "id": "1c92842c",
   "metadata": {},
   "source": [
    "## Analiza: min, max, średnia, mediana"
   ]
  },
  {
   "cell_type": "code",
   "execution_count": null,
   "id": "c0804f7f",
   "metadata": {},
   "outputs": [
    {
     "name": "stdout",
     "output_type": "stream",
     "text": [
      "Wylosowane liczby:  [8, 14, 20, 26, 32, 38, 44, 50, 56, 62, 68]\n",
      "Mediana podanych liczb wynosi:  38\n",
      "Maksymalna liczba to:  68\n",
      "Minimalna liczba to:  8\n",
      "Średnia wynosi 38\n"
     ]
    }
   ],
   "source": [
    "print(\"Wylosowane liczby: \", data)\n",
    "analyze(data)\n",
    "    "
   ]
  }
 ],
 "metadata": {
  "kernelspec": {
   "display_name": "Python 3",
   "language": "python",
   "name": "python3"
  },
  "language_info": {
   "codemirror_mode": {
    "name": "ipython",
    "version": 3
   },
   "file_extension": ".py",
   "mimetype": "text/x-python",
   "name": "python",
   "nbconvert_exporter": "python",
   "pygments_lexer": "ipython3",
   "version": "3.13.1"
  }
 },
 "nbformat": 4,
 "nbformat_minor": 5
}
