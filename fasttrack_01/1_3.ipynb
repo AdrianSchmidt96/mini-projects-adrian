{
 "cells": [
  {
   "cell_type": "markdown",
   "id": "54f172a2",
   "metadata": {},
   "source": [
    "Ćwiczenie z API\n",
    "źródło danych: https://api.nbp.pl/api/exchangerates/tables/A?format=json"
   ]
  },
  {
   "cell_type": "code",
   "execution_count": 4,
   "id": "758fa720",
   "metadata": {},
   "outputs": [],
   "source": [
    "import requests\n",
    "import pandas as pd\n",
    "import seaborn as sns"
   ]
  },
  {
   "cell_type": "markdown",
   "id": "5860159f",
   "metadata": {},
   "source": [
    "## Pobranie danych"
   ]
  },
  {
   "cell_type": "code",
   "execution_count": 26,
   "id": "2b686987",
   "metadata": {},
   "outputs": [
    {
     "name": "stdout",
     "output_type": "stream",
     "text": [
      "Dane pobrane, status:  200\n"
     ]
    }
   ],
   "source": [
    "try:\n",
    "    url = 'https://api.nbp.pl/api/exchangerates/tables/A?format=json'\n",
    "    response = requests.get(url)\n",
    "    nbp_data = response.json()\n",
    "    print('Dane pobrane, status: ', response.status_code)\n",
    "except requests.exceptions.ConnectionError as e: \n",
    "    print('Błąd pobierania danych, starus: ',response.status_code, e)"
   ]
  },
  {
   "cell_type": "markdown",
   "id": "6cb984c0",
   "metadata": {},
   "source": [
    "## Sformatowanie danych do DataFrame"
   ]
  },
  {
   "cell_type": "code",
   "execution_count": 32,
   "id": "ffaf15e1",
   "metadata": {},
   "outputs": [
    {
     "name": "stdout",
     "output_type": "stream",
     "text": [
      "<class 'list'>\n",
      "{'table': 'A', 'no': '096/A/NBP/2025', 'effectiveDate': '2025-05-20', 'rates': [{'currency': 'bat (Tajlandia)', 'code': 'THB', 'mid': 0.114}, {'currency': 'dolar amerykański', 'code': 'USD', 'mid': 3.7747}, {'currency': 'dolar australijski', 'code': 'AUD', 'mid': 2.4227}, {'currency': 'dolar Hongkongu', 'code': 'HKD', 'mid': 0.4821}, {'currency': 'dolar kanadyjski', 'code': 'CAD', 'mid': 2.7076}, {'currency': 'dolar nowozelandzki', 'code': 'NZD', 'mid': 2.2343}, {'currency': 'dolar singapurski', 'code': 'SGD', 'mid': 2.9138}, {'currency': 'euro', 'code': 'EUR', 'mid': 4.2497}, {'currency': 'forint (Węgry)', 'code': 'HUF', 'mid': 0.01056}, {'currency': 'frank szwajcarski', 'code': 'CHF', 'mid': 4.5376}, {'currency': 'funt szterling', 'code': 'GBP', 'mid': 5.0483}, {'currency': 'hrywna (Ukraina)', 'code': 'UAH', 'mid': 0.0909}, {'currency': 'jen (Japonia)', 'code': 'JPY', 'mid': 0.026125}, {'currency': 'korona czeska', 'code': 'CZK', 'mid': 0.1707}, {'currency': 'korona duńska', 'code': 'DKK', 'mid': 0.5697}, {'currency': 'korona islandzka', 'code': 'ISK', 'mid': 0.029127}, {'currency': 'korona norweska', 'code': 'NOK', 'mid': 0.3676}, {'currency': 'korona szwedzka', 'code': 'SEK', 'mid': 0.3909}, {'currency': 'lej rumuński', 'code': 'RON', 'mid': 0.8372}, {'currency': 'lew (Bułgaria)', 'code': 'BGN', 'mid': 2.1728}, {'currency': 'lira turecka', 'code': 'TRY', 'mid': 0.097}, {'currency': 'nowy izraelski szekel', 'code': 'ILS', 'mid': 1.0715}, {'currency': 'peso chilijskie', 'code': 'CLP', 'mid': 0.004026}, {'currency': 'peso filipińskie', 'code': 'PHP', 'mid': 0.0678}, {'currency': 'peso meksykańskie', 'code': 'MXN', 'mid': 0.1959}, {'currency': 'rand (Republika Południowej Afryki)', 'code': 'ZAR', 'mid': 0.209}, {'currency': 'real (Brazylia)', 'code': 'BRL', 'mid': 0.6685}, {'currency': 'ringgit (Malezja)', 'code': 'MYR', 'mid': 0.8802}, {'currency': 'rupia indonezyjska', 'code': 'IDR', 'mid': 0.00022995}, {'currency': 'rupia indyjska', 'code': 'INR', 'mid': 0.044147}, {'currency': 'won południowokoreański', 'code': 'KRW', 'mid': 0.002711}, {'currency': 'yuan renminbi (Chiny)', 'code': 'CNY', 'mid': 0.5228}, {'currency': 'SDR (MFW)', 'code': 'XDR', 'mid': 5.1071}]}\n"
     ]
    },
    {
     "data": {
      "text/html": [
       "<div>\n",
       "<style scoped>\n",
       "    .dataframe tbody tr th:only-of-type {\n",
       "        vertical-align: middle;\n",
       "    }\n",
       "\n",
       "    .dataframe tbody tr th {\n",
       "        vertical-align: top;\n",
       "    }\n",
       "\n",
       "    .dataframe thead th {\n",
       "        text-align: right;\n",
       "    }\n",
       "</style>\n",
       "<table border=\"1\" class=\"dataframe\">\n",
       "  <thead>\n",
       "    <tr style=\"text-align: right;\">\n",
       "      <th></th>\n",
       "      <th>currency</th>\n",
       "      <th>code</th>\n",
       "      <th>mid</th>\n",
       "    </tr>\n",
       "  </thead>\n",
       "  <tbody>\n",
       "    <tr>\n",
       "      <th>0</th>\n",
       "      <td>bat (Tajlandia)</td>\n",
       "      <td>THB</td>\n",
       "      <td>0.1140</td>\n",
       "    </tr>\n",
       "    <tr>\n",
       "      <th>1</th>\n",
       "      <td>dolar amerykański</td>\n",
       "      <td>USD</td>\n",
       "      <td>3.7747</td>\n",
       "    </tr>\n",
       "    <tr>\n",
       "      <th>2</th>\n",
       "      <td>dolar australijski</td>\n",
       "      <td>AUD</td>\n",
       "      <td>2.4227</td>\n",
       "    </tr>\n",
       "    <tr>\n",
       "      <th>3</th>\n",
       "      <td>dolar Hongkongu</td>\n",
       "      <td>HKD</td>\n",
       "      <td>0.4821</td>\n",
       "    </tr>\n",
       "    <tr>\n",
       "      <th>4</th>\n",
       "      <td>dolar kanadyjski</td>\n",
       "      <td>CAD</td>\n",
       "      <td>2.7076</td>\n",
       "    </tr>\n",
       "  </tbody>\n",
       "</table>\n",
       "</div>"
      ],
      "text/plain": [
       "             currency code     mid\n",
       "0     bat (Tajlandia)  THB  0.1140\n",
       "1   dolar amerykański  USD  3.7747\n",
       "2  dolar australijski  AUD  2.4227\n",
       "3     dolar Hongkongu  HKD  0.4821\n",
       "4    dolar kanadyjski  CAD  2.7076"
      ]
     },
     "execution_count": 32,
     "metadata": {},
     "output_type": "execute_result"
    }
   ],
   "source": [
    "print(type(nbp_data))\n",
    "print(nbp_data[0])\n",
    "\n",
    "df = pd.DataFrame(nbp_data[0]['rates'])\n",
    "df.head()"
   ]
  },
  {
   "cell_type": "markdown",
   "id": "206f4917",
   "metadata": {},
   "source": [
    "Dodanie daty kursu walut"
   ]
  },
  {
   "cell_type": "code",
   "execution_count": 36,
   "id": "04084189",
   "metadata": {},
   "outputs": [
    {
     "data": {
      "text/html": [
       "<div>\n",
       "<style scoped>\n",
       "    .dataframe tbody tr th:only-of-type {\n",
       "        vertical-align: middle;\n",
       "    }\n",
       "\n",
       "    .dataframe tbody tr th {\n",
       "        vertical-align: top;\n",
       "    }\n",
       "\n",
       "    .dataframe thead th {\n",
       "        text-align: right;\n",
       "    }\n",
       "</style>\n",
       "<table border=\"1\" class=\"dataframe\">\n",
       "  <thead>\n",
       "    <tr style=\"text-align: right;\">\n",
       "      <th></th>\n",
       "      <th>currency</th>\n",
       "      <th>code</th>\n",
       "      <th>mid</th>\n",
       "      <th>effectiveDate</th>\n",
       "    </tr>\n",
       "  </thead>\n",
       "  <tbody>\n",
       "    <tr>\n",
       "      <th>0</th>\n",
       "      <td>bat (Tajlandia)</td>\n",
       "      <td>THB</td>\n",
       "      <td>0.1140</td>\n",
       "      <td>2025-05-20</td>\n",
       "    </tr>\n",
       "    <tr>\n",
       "      <th>1</th>\n",
       "      <td>dolar amerykański</td>\n",
       "      <td>USD</td>\n",
       "      <td>3.7747</td>\n",
       "      <td>2025-05-20</td>\n",
       "    </tr>\n",
       "    <tr>\n",
       "      <th>2</th>\n",
       "      <td>dolar australijski</td>\n",
       "      <td>AUD</td>\n",
       "      <td>2.4227</td>\n",
       "      <td>2025-05-20</td>\n",
       "    </tr>\n",
       "    <tr>\n",
       "      <th>3</th>\n",
       "      <td>dolar Hongkongu</td>\n",
       "      <td>HKD</td>\n",
       "      <td>0.4821</td>\n",
       "      <td>2025-05-20</td>\n",
       "    </tr>\n",
       "    <tr>\n",
       "      <th>4</th>\n",
       "      <td>dolar kanadyjski</td>\n",
       "      <td>CAD</td>\n",
       "      <td>2.7076</td>\n",
       "      <td>2025-05-20</td>\n",
       "    </tr>\n",
       "  </tbody>\n",
       "</table>\n",
       "</div>"
      ],
      "text/plain": [
       "             currency code     mid effectiveDate\n",
       "0     bat (Tajlandia)  THB  0.1140    2025-05-20\n",
       "1   dolar amerykański  USD  3.7747    2025-05-20\n",
       "2  dolar australijski  AUD  2.4227    2025-05-20\n",
       "3     dolar Hongkongu  HKD  0.4821    2025-05-20\n",
       "4    dolar kanadyjski  CAD  2.7076    2025-05-20"
      ]
     },
     "execution_count": 36,
     "metadata": {},
     "output_type": "execute_result"
    }
   ],
   "source": [
    "df['effectiveDate'] = nbp_data[0]['effectiveDate']\n",
    "df.head()"
   ]
  },
  {
   "cell_type": "markdown",
   "id": "5a378c8b",
   "metadata": {},
   "source": [
    "Sprawdzenie liczby kursów"
   ]
  },
  {
   "cell_type": "code",
   "execution_count": 37,
   "id": "eed84a87",
   "metadata": {},
   "outputs": [
    {
     "data": {
      "text/plain": [
       "currency         33\n",
       "code             33\n",
       "mid              33\n",
       "effectiveDate    33\n",
       "dtype: int64"
      ]
     },
     "execution_count": 37,
     "metadata": {},
     "output_type": "execute_result"
    }
   ],
   "source": [
    "df.count()"
   ]
  },
  {
   "cell_type": "markdown",
   "id": "274848f1",
   "metadata": {},
   "source": [
    "Weryfikacja poprawności danych"
   ]
  },
  {
   "cell_type": "code",
   "execution_count": 38,
   "id": "b2cd50cb",
   "metadata": {},
   "outputs": [
    {
     "name": "stdout",
     "output_type": "stream",
     "text": [
      "<class 'pandas.core.frame.DataFrame'>\n",
      "RangeIndex: 33 entries, 0 to 32\n",
      "Data columns (total 4 columns):\n",
      " #   Column         Non-Null Count  Dtype  \n",
      "---  ------         --------------  -----  \n",
      " 0   currency       33 non-null     object \n",
      " 1   code           33 non-null     object \n",
      " 2   mid            33 non-null     float64\n",
      " 3   effectiveDate  33 non-null     object \n",
      "dtypes: float64(1), object(3)\n",
      "memory usage: 1.2+ KB\n"
     ]
    }
   ],
   "source": [
    "df.info()"
   ]
  },
  {
   "cell_type": "code",
   "execution_count": 39,
   "id": "335e98ca",
   "metadata": {},
   "outputs": [
    {
     "data": {
      "text/plain": [
       "currency         0\n",
       "code             0\n",
       "mid              0\n",
       "effectiveDate    0\n",
       "dtype: int64"
      ]
     },
     "execution_count": 39,
     "metadata": {},
     "output_type": "execute_result"
    }
   ],
   "source": [
    "df.isnull().sum()"
   ]
  },
  {
   "cell_type": "code",
   "execution_count": 40,
   "id": "5639f639",
   "metadata": {},
   "outputs": [
    {
     "data": {
      "text/html": [
       "<div>\n",
       "<style scoped>\n",
       "    .dataframe tbody tr th:only-of-type {\n",
       "        vertical-align: middle;\n",
       "    }\n",
       "\n",
       "    .dataframe tbody tr th {\n",
       "        vertical-align: top;\n",
       "    }\n",
       "\n",
       "    .dataframe thead th {\n",
       "        text-align: right;\n",
       "    }\n",
       "</style>\n",
       "<table border=\"1\" class=\"dataframe\">\n",
       "  <thead>\n",
       "    <tr style=\"text-align: right;\">\n",
       "      <th></th>\n",
       "      <th>mid</th>\n",
       "    </tr>\n",
       "  </thead>\n",
       "  <tbody>\n",
       "    <tr>\n",
       "      <th>count</th>\n",
       "      <td>33.000000</td>\n",
       "    </tr>\n",
       "    <tr>\n",
       "      <th>mean</th>\n",
       "      <td>1.273374</td>\n",
       "    </tr>\n",
       "    <tr>\n",
       "      <th>std</th>\n",
       "      <td>1.646018</td>\n",
       "    </tr>\n",
       "    <tr>\n",
       "      <th>min</th>\n",
       "      <td>0.000230</td>\n",
       "    </tr>\n",
       "    <tr>\n",
       "      <th>25%</th>\n",
       "      <td>0.090900</td>\n",
       "    </tr>\n",
       "    <tr>\n",
       "      <th>50%</th>\n",
       "      <td>0.482100</td>\n",
       "    </tr>\n",
       "    <tr>\n",
       "      <th>75%</th>\n",
       "      <td>2.234300</td>\n",
       "    </tr>\n",
       "    <tr>\n",
       "      <th>max</th>\n",
       "      <td>5.107100</td>\n",
       "    </tr>\n",
       "  </tbody>\n",
       "</table>\n",
       "</div>"
      ],
      "text/plain": [
       "             mid\n",
       "count  33.000000\n",
       "mean    1.273374\n",
       "std     1.646018\n",
       "min     0.000230\n",
       "25%     0.090900\n",
       "50%     0.482100\n",
       "75%     2.234300\n",
       "max     5.107100"
      ]
     },
     "execution_count": 40,
     "metadata": {},
     "output_type": "execute_result"
    }
   ],
   "source": [
    "df.describe()"
   ]
  },
  {
   "cell_type": "markdown",
   "id": "dac308dd",
   "metadata": {},
   "source": [
    "TOP 5 walut o najwyższym kursie\n"
   ]
  },
  {
   "cell_type": "code",
   "execution_count": 44,
   "id": "3e35d68f",
   "metadata": {},
   "outputs": [
    {
     "data": {
      "text/html": [
       "<div>\n",
       "<style scoped>\n",
       "    .dataframe tbody tr th:only-of-type {\n",
       "        vertical-align: middle;\n",
       "    }\n",
       "\n",
       "    .dataframe tbody tr th {\n",
       "        vertical-align: top;\n",
       "    }\n",
       "\n",
       "    .dataframe thead th {\n",
       "        text-align: right;\n",
       "    }\n",
       "</style>\n",
       "<table border=\"1\" class=\"dataframe\">\n",
       "  <thead>\n",
       "    <tr style=\"text-align: right;\">\n",
       "      <th></th>\n",
       "      <th>currency</th>\n",
       "      <th>code</th>\n",
       "      <th>mid</th>\n",
       "      <th>effectiveDate</th>\n",
       "    </tr>\n",
       "  </thead>\n",
       "  <tbody>\n",
       "    <tr>\n",
       "      <th>32</th>\n",
       "      <td>SDR (MFW)</td>\n",
       "      <td>XDR</td>\n",
       "      <td>5.1071</td>\n",
       "      <td>2025-05-20</td>\n",
       "    </tr>\n",
       "    <tr>\n",
       "      <th>10</th>\n",
       "      <td>funt szterling</td>\n",
       "      <td>GBP</td>\n",
       "      <td>5.0483</td>\n",
       "      <td>2025-05-20</td>\n",
       "    </tr>\n",
       "    <tr>\n",
       "      <th>9</th>\n",
       "      <td>frank szwajcarski</td>\n",
       "      <td>CHF</td>\n",
       "      <td>4.5376</td>\n",
       "      <td>2025-05-20</td>\n",
       "    </tr>\n",
       "    <tr>\n",
       "      <th>7</th>\n",
       "      <td>euro</td>\n",
       "      <td>EUR</td>\n",
       "      <td>4.2497</td>\n",
       "      <td>2025-05-20</td>\n",
       "    </tr>\n",
       "    <tr>\n",
       "      <th>1</th>\n",
       "      <td>dolar amerykański</td>\n",
       "      <td>USD</td>\n",
       "      <td>3.7747</td>\n",
       "      <td>2025-05-20</td>\n",
       "    </tr>\n",
       "  </tbody>\n",
       "</table>\n",
       "</div>"
      ],
      "text/plain": [
       "             currency code     mid effectiveDate\n",
       "32          SDR (MFW)  XDR  5.1071    2025-05-20\n",
       "10     funt szterling  GBP  5.0483    2025-05-20\n",
       "9   frank szwajcarski  CHF  4.5376    2025-05-20\n",
       "7                euro  EUR  4.2497    2025-05-20\n",
       "1   dolar amerykański  USD  3.7747    2025-05-20"
      ]
     },
     "execution_count": 44,
     "metadata": {},
     "output_type": "execute_result"
    }
   ],
   "source": [
    "\n",
    "max_values = df.sort_values(by='mid',ascending= False)\n",
    "max_values.head()"
   ]
  },
  {
   "cell_type": "markdown",
   "id": "ffb119fe",
   "metadata": {},
   "source": [
    "TOP 5 wlaut o najniższym kursie"
   ]
  },
  {
   "cell_type": "code",
   "execution_count": 45,
   "id": "01331de6",
   "metadata": {},
   "outputs": [
    {
     "data": {
      "text/html": [
       "<div>\n",
       "<style scoped>\n",
       "    .dataframe tbody tr th:only-of-type {\n",
       "        vertical-align: middle;\n",
       "    }\n",
       "\n",
       "    .dataframe tbody tr th {\n",
       "        vertical-align: top;\n",
       "    }\n",
       "\n",
       "    .dataframe thead th {\n",
       "        text-align: right;\n",
       "    }\n",
       "</style>\n",
       "<table border=\"1\" class=\"dataframe\">\n",
       "  <thead>\n",
       "    <tr style=\"text-align: right;\">\n",
       "      <th></th>\n",
       "      <th>currency</th>\n",
       "      <th>code</th>\n",
       "      <th>mid</th>\n",
       "      <th>effectiveDate</th>\n",
       "    </tr>\n",
       "  </thead>\n",
       "  <tbody>\n",
       "    <tr>\n",
       "      <th>28</th>\n",
       "      <td>rupia indonezyjska</td>\n",
       "      <td>IDR</td>\n",
       "      <td>0.000230</td>\n",
       "      <td>2025-05-20</td>\n",
       "    </tr>\n",
       "    <tr>\n",
       "      <th>30</th>\n",
       "      <td>won południowokoreański</td>\n",
       "      <td>KRW</td>\n",
       "      <td>0.002711</td>\n",
       "      <td>2025-05-20</td>\n",
       "    </tr>\n",
       "    <tr>\n",
       "      <th>22</th>\n",
       "      <td>peso chilijskie</td>\n",
       "      <td>CLP</td>\n",
       "      <td>0.004026</td>\n",
       "      <td>2025-05-20</td>\n",
       "    </tr>\n",
       "    <tr>\n",
       "      <th>8</th>\n",
       "      <td>forint (Węgry)</td>\n",
       "      <td>HUF</td>\n",
       "      <td>0.010560</td>\n",
       "      <td>2025-05-20</td>\n",
       "    </tr>\n",
       "    <tr>\n",
       "      <th>12</th>\n",
       "      <td>jen (Japonia)</td>\n",
       "      <td>JPY</td>\n",
       "      <td>0.026125</td>\n",
       "      <td>2025-05-20</td>\n",
       "    </tr>\n",
       "  </tbody>\n",
       "</table>\n",
       "</div>"
      ],
      "text/plain": [
       "                   currency code       mid effectiveDate\n",
       "28       rupia indonezyjska  IDR  0.000230    2025-05-20\n",
       "30  won południowokoreański  KRW  0.002711    2025-05-20\n",
       "22          peso chilijskie  CLP  0.004026    2025-05-20\n",
       "8            forint (Węgry)  HUF  0.010560    2025-05-20\n",
       "12            jen (Japonia)  JPY  0.026125    2025-05-20"
      ]
     },
     "execution_count": 45,
     "metadata": {},
     "output_type": "execute_result"
    }
   ],
   "source": [
    "\n",
    "max_values = df.sort_values(by='mid')\n",
    "max_values.head()"
   ]
  },
  {
   "cell_type": "markdown",
   "id": "c19bdf3a",
   "metadata": {},
   "source": [
    "Średni kurs dla wszystkich walut"
   ]
  },
  {
   "cell_type": "code",
   "execution_count": 48,
   "id": "cc0829d6",
   "metadata": {},
   "outputs": [
    {
     "name": "stdout",
     "output_type": "stream",
     "text": [
      "1.27\n"
     ]
    }
   ],
   "source": [
    "mean_mid = df['mid'].mean().round(2)\n",
    "print(mean_mid)\n"
   ]
  },
  {
   "cell_type": "markdown",
   "id": "1782abdc",
   "metadata": {},
   "source": [
    "Wluty które posiadają kurs wyższy niż 4 PLN\n"
   ]
  },
  {
   "cell_type": "code",
   "execution_count": 49,
   "id": "715f8135",
   "metadata": {},
   "outputs": [
    {
     "name": "stdout",
     "output_type": "stream",
     "text": [
      "0     False\n",
      "1     False\n",
      "2     False\n",
      "3     False\n",
      "4     False\n",
      "5     False\n",
      "6     False\n",
      "7      True\n",
      "8     False\n",
      "9      True\n",
      "10     True\n",
      "11    False\n",
      "12    False\n",
      "13    False\n",
      "14    False\n",
      "15    False\n",
      "16    False\n",
      "17    False\n",
      "18    False\n",
      "19    False\n",
      "20    False\n",
      "21    False\n",
      "22    False\n",
      "23    False\n",
      "24    False\n",
      "25    False\n",
      "26    False\n",
      "27    False\n",
      "28    False\n",
      "29    False\n",
      "30    False\n",
      "31    False\n",
      "32     True\n",
      "Name: mid, dtype: bool\n"
     ]
    }
   ],
   "source": [
    "higher_than_4 = df['mid'] > 4\n",
    "print(higher_than_4)"
   ]
  },
  {
   "cell_type": "markdown",
   "id": "653a434c",
   "metadata": {},
   "source": [
    "🟨 3. MANIPULACJE I SORTOWANIE\n",
    "✅ Cel: ćwiczenie na Pandas\n",
    "\n",
    "Posortuj dane rosnąco i malejąco wg mid\n",
    "\n",
    "Przefiltruj tylko te waluty, których kurs > 4\n",
    "\n",
    "Zrób nową kolumnę PLN_value_100 = kurs × 100 (czyli ile kosztuje 100 jednostek tej waluty)\n",
    "\n",
    "Zastosuj .round(2) do nowej kolumny\n",
    "\n",
    "🟧 4. WIZUALIZACJA\n",
    "✅ Cel: przygotowanie do części wykresowej projektu\n",
    "\n",
    "Narysuj wykres TOP 10 walut wg kursu mid\n",
    "\n",
    "Zmień kolor słupków na zielony (color='green')\n",
    "\n",
    "Dodaj tytuł wykresu i etykiety osi\n",
    "\n",
    "Dodaj etykiety z wartościami kursu nad słupkami\n",
    "\n",
    "🟥 5. OBSŁUGA BŁĘDÓW I TRY / EXCEPT\n",
    "✅ Cel: przygotowanie kodu produkcyjnego\n",
    "\n",
    "Obsłuż błąd braku internetu (ConnectionError)\n",
    "\n",
    "Obsłuż sytuację, gdzie rates nie istnieje (np. KeyError)\n",
    "\n",
    "Jeśli status API ≠ 200, wyświetl „Błąd pobierania danych: ...”\n",
    "\n",
    "Jeżeli dane są puste, przerwij skrypt z informacją dla użytkownika\n",
    "\n",
    "🏁 6. MINI CHALLENGE – FAKE NEWS DETECTOR\n",
    "❓Czy istnieje waluta o nazwie 'bitcoin' lub 'BTC' w tabeli?\n",
    "\n",
    "Wypisz ją, jeśli tak.\n",
    "\n",
    "Jeśli nie – napisz: „Taka waluta nie istnieje w tabeli A NBP.”\n",
    "\n"
   ]
  },
  {
   "cell_type": "markdown",
   "id": "dd6f09b2",
   "metadata": {},
   "source": []
  }
 ],
 "metadata": {
  "kernelspec": {
   "display_name": "Python 3",
   "language": "python",
   "name": "python3"
  },
  "language_info": {
   "codemirror_mode": {
    "name": "ipython",
    "version": 3
   },
   "file_extension": ".py",
   "mimetype": "text/x-python",
   "name": "python",
   "nbconvert_exporter": "python",
   "pygments_lexer": "ipython3",
   "version": "3.13.1"
  }
 },
 "nbformat": 4,
 "nbformat_minor": 5
}
