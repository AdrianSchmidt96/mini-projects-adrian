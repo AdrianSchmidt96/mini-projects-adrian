{
 "cells": [
  {
   "cell_type": "markdown",
   "id": "f54d7cee",
   "metadata": {},
   "source": [
    "## Analiza na podstawie danych IMGW \n",
    "źródło:'https://danepubliczne.imgw.pl/api/data/synop'"
   ]
  },
  {
   "cell_type": "code",
   "execution_count": 1,
   "id": "f4c48f3a",
   "metadata": {},
   "outputs": [],
   "source": [
    "import pandas as pd \n",
    "import json\n",
    "import requests\n",
    "import seaborn as sns\n",
    "import matplotlib.pyplot as plt\n"
   ]
  },
  {
   "cell_type": "code",
   "execution_count": 2,
   "id": "fa6d67aa",
   "metadata": {},
   "outputs": [
    {
     "name": "stdout",
     "output_type": "stream",
     "text": [
      "corretly contect with API\n",
      "--------------------------\n",
      "  id_stacji         stacja data_pomiaru godzina_pomiaru temperatura  \\\n",
      "0     12295      Białystok   2025-05-16              11           8   \n",
      "1     12600  Bielsko Biała   2025-05-16              11          10   \n",
      "2     12235       Chojnice   2025-05-16              11         8.8   \n",
      "3     12550    Częstochowa   2025-05-16              11        10.3   \n",
      "4     12160         Elbląg   2025-05-16              11           7   \n",
      "\n",
      "  predkosc_wiatru kierunek_wiatru wilgotnosc_wzgledna suma_opadu cisnienie  \n",
      "0               3             140                88.9       10.2      1004  \n",
      "1               8             240                61.4        2.9    1012.4  \n",
      "2               4             350                79.0        6.9    1010.7  \n",
      "3               4             280                73.9        1.5    1009.5  \n",
      "4               7             350                82.8       26.1    1008.2  \n",
      "--------------------------\n",
      "<class 'pandas.core.frame.DataFrame'>\n",
      "RangeIndex: 62 entries, 0 to 61\n",
      "Data columns (total 10 columns):\n",
      " #   Column               Non-Null Count  Dtype \n",
      "---  ------               --------------  ----- \n",
      " 0   id_stacji            62 non-null     object\n",
      " 1   stacja               62 non-null     object\n",
      " 2   data_pomiaru         62 non-null     object\n",
      " 3   godzina_pomiaru      62 non-null     object\n",
      " 4   temperatura          61 non-null     object\n",
      " 5   predkosc_wiatru      62 non-null     object\n",
      " 6   kierunek_wiatru      62 non-null     object\n",
      " 7   wilgotnosc_wzgledna  61 non-null     object\n",
      " 8   suma_opadu           62 non-null     object\n",
      " 9   cisnienie            58 non-null     object\n",
      "dtypes: object(10)\n",
      "memory usage: 5.0+ KB\n",
      "None\n"
     ]
    }
   ],
   "source": [
    "url = 'https://danepubliczne.imgw.pl/api/data/synop'\n",
    "\n",
    "response = requests.get(url)\n",
    "\n",
    "if response.status_code == 200:\n",
    "    print('corretly contect with API')\n",
    "    print('--------------------------')\n",
    "    data = response.json()\n",
    "    df = pd.DataFrame(data)\n",
    "    print(df.head())\n",
    "    print('--------------------------')\n",
    "    print(df.info())\n",
    "else:\n",
    "    print('something is wrong! chceck status code:', response.status_code)\n",
    "data = response.json()\n"
   ]
  },
  {
   "cell_type": "code",
   "execution_count": 3,
   "id": "89164c23",
   "metadata": {},
   "outputs": [
    {
     "data": {
      "text/plain": [
       "id_stacji              0\n",
       "stacja                 0\n",
       "data_pomiaru           0\n",
       "godzina_pomiaru        0\n",
       "temperatura            1\n",
       "predkosc_wiatru        0\n",
       "kierunek_wiatru        0\n",
       "wilgotnosc_wzgledna    1\n",
       "suma_opadu             0\n",
       "cisnienie              4\n",
       "dtype: int64"
      ]
     },
     "execution_count": 3,
     "metadata": {},
     "output_type": "execute_result"
    }
   ],
   "source": [
    "df.drop_duplicates()\n",
    "df.isnull().sum()"
   ]
  },
  {
   "cell_type": "markdown",
   "id": "9fe83671",
   "metadata": {},
   "source": [
    "## Top 3 najcieplejsze miejsca w Polsce na dzień analizy"
   ]
  },
  {
   "cell_type": "code",
   "execution_count": 4,
   "id": "14d11e50",
   "metadata": {},
   "outputs": [
    {
     "data": {
      "text/html": [
       "<div>\n",
       "<style scoped>\n",
       "    .dataframe tbody tr th:only-of-type {\n",
       "        vertical-align: middle;\n",
       "    }\n",
       "\n",
       "    .dataframe tbody tr th {\n",
       "        vertical-align: top;\n",
       "    }\n",
       "\n",
       "    .dataframe thead th {\n",
       "        text-align: right;\n",
       "    }\n",
       "</style>\n",
       "<table border=\"1\" class=\"dataframe\">\n",
       "  <thead>\n",
       "    <tr style=\"text-align: right;\">\n",
       "      <th></th>\n",
       "      <th>stacja</th>\n",
       "      <th>data_pomiaru</th>\n",
       "      <th>temperatura</th>\n",
       "    </tr>\n",
       "  </thead>\n",
       "  <tbody>\n",
       "    <tr>\n",
       "      <th>24</th>\n",
       "      <td>Lębork</td>\n",
       "      <td>2025-05-16</td>\n",
       "      <td>9.4</td>\n",
       "    </tr>\n",
       "    <tr>\n",
       "      <th>15</th>\n",
       "      <td>Koło</td>\n",
       "      <td>2025-05-16</td>\n",
       "      <td>9.3</td>\n",
       "    </tr>\n",
       "    <tr>\n",
       "      <th>39</th>\n",
       "      <td>Racibórz</td>\n",
       "      <td>2025-05-16</td>\n",
       "      <td>9.1</td>\n",
       "    </tr>\n",
       "  </tbody>\n",
       "</table>\n",
       "</div>"
      ],
      "text/plain": [
       "      stacja data_pomiaru temperatura\n",
       "24    Lębork   2025-05-16         9.4\n",
       "15      Koło   2025-05-16         9.3\n",
       "39  Racibórz   2025-05-16         9.1"
      ]
     },
     "execution_count": 4,
     "metadata": {},
     "output_type": "execute_result"
    }
   ],
   "source": [
    "df_top_temp = df[['stacja', 'data_pomiaru', 'temperatura']]\n",
    "df_top_temp = df_top_temp.sort_values(by='temperatura',ascending=False)\n",
    "df_top_temp.head(3)"
   ]
  },
  {
   "cell_type": "markdown",
   "id": "831bb698",
   "metadata": {},
   "source": [
    "Top 3 najcieplejsze miejsca w Polsce na dzień analizy (16.05.2025) kolejno:\n",
    "1. Sandomierz\n",
    "2. Krosno\n",
    "3. Kraków"
   ]
  },
  {
   "cell_type": "markdown",
   "id": "e9cac49f",
   "metadata": {},
   "source": [
    "## Top 3 poziom ciśnienia w Polsce\n"
   ]
  },
  {
   "cell_type": "code",
   "execution_count": 5,
   "id": "df1e74b4",
   "metadata": {},
   "outputs": [
    {
     "data": {
      "text/html": [
       "<div>\n",
       "<style scoped>\n",
       "    .dataframe tbody tr th:only-of-type {\n",
       "        vertical-align: middle;\n",
       "    }\n",
       "\n",
       "    .dataframe tbody tr th {\n",
       "        vertical-align: top;\n",
       "    }\n",
       "\n",
       "    .dataframe thead th {\n",
       "        text-align: right;\n",
       "    }\n",
       "</style>\n",
       "<table border=\"1\" class=\"dataframe\">\n",
       "  <thead>\n",
       "    <tr style=\"text-align: right;\">\n",
       "      <th></th>\n",
       "      <th>stacja</th>\n",
       "      <th>data_pomiaru</th>\n",
       "      <th>temperatura</th>\n",
       "      <th>cisnienie</th>\n",
       "    </tr>\n",
       "  </thead>\n",
       "  <tbody>\n",
       "    <tr>\n",
       "      <th>50</th>\n",
       "      <td>Świnoujście</td>\n",
       "      <td>2025-05-16</td>\n",
       "      <td>12.9</td>\n",
       "      <td>1015.5</td>\n",
       "    </tr>\n",
       "    <tr>\n",
       "      <th>47</th>\n",
       "      <td>Szczecin</td>\n",
       "      <td>2025-05-16</td>\n",
       "      <td>13.2</td>\n",
       "      <td>1014</td>\n",
       "    </tr>\n",
       "    <tr>\n",
       "      <th>16</th>\n",
       "      <td>Kołobrzeg</td>\n",
       "      <td>2025-05-16</td>\n",
       "      <td>11.1</td>\n",
       "      <td>1014</td>\n",
       "    </tr>\n",
       "  </tbody>\n",
       "</table>\n",
       "</div>"
      ],
      "text/plain": [
       "         stacja data_pomiaru temperatura cisnienie\n",
       "50  Świnoujście   2025-05-16        12.9    1015.5\n",
       "47     Szczecin   2025-05-16        13.2      1014\n",
       "16    Kołobrzeg   2025-05-16        11.1      1014"
      ]
     },
     "execution_count": 5,
     "metadata": {},
     "output_type": "execute_result"
    }
   ],
   "source": [
    "df_top_pressure = df[['stacja', 'data_pomiaru', 'temperatura', 'cisnienie']]\n",
    "df_top_pressure = df_top_pressure.sort_values(by='cisnienie', ascending=False)\n",
    "df_top_pressure.head(3)"
   ]
  },
  {
   "cell_type": "markdown",
   "id": "c613d328",
   "metadata": {},
   "source": [
    "Top 3 miejsca o najwyższym ciśnieniu na dzień analizy(16.05.2025) kolejno:\n",
    "1.Świnoujście\n",
    "2.Szczecin\n",
    "3.Kołobrzeg"
   ]
  },
  {
   "cell_type": "code",
   "execution_count": 6,
   "id": "3d6484b8",
   "metadata": {},
   "outputs": [
    {
     "data": {
      "image/png": "[encoded data removed]",
      "text/plain": [
       "<Figure size 640x480 with 1 Axes>"
      ]
     },
     "metadata": {},
     "output_type": "display_data"
    }
   ],
   "source": [
    "sns.barplot(data=df.sort_values(by= 'temperatura',ascending=False).head(10), x='temperatura', y='stacja')\n",
    "plt.title(\"Top 10 najcieplejszych stacji\")\n",
    "plt.xlabel(\"Temperatura (°C)\")\n",
    "plt.ylabel(\"Stacja\")\n",
    "plt.tight_layout()\n",
    "plt.show()"
   ]
  },
  {
   "cell_type": "markdown",
   "id": "329bf1a1",
   "metadata": {},
   "source": [
    "## Generownie oputputs"
   ]
  },
  {
   "cell_type": "code",
   "execution_count": 13,
   "id": "e36fbf3f",
   "metadata": {},
   "outputs": [],
   "source": [
    "df_top_temp.to_excel('../output/top temp.xlsx', index= False)\n",
    "df_top_pressure.to_excel('../output/top pressure.xlsx', index=False)"
   ]
  },
  {
   "cell_type": "markdown",
   "id": "c4eadf64",
   "metadata": {},
   "source": [
    "## Wnioski\n"
   ]
  },
  {
   "cell_type": "markdown",
   "id": "aac73f0a",
   "metadata": {},
   "source": [
    "Podczas analizy pobrano aktualne dane z IMGW, przekształcono, wyodrębniono potrzebne dane do stworzenia top 3 miejsc z najwyższą temperaturą oraz ciśnieniem - brak korelacji."
   ]
  },
  {
   "cell_type": "markdown",
   "id": "d6129231",
   "metadata": {},
   "source": [
    "## Co dalej?"
   ]
  },
  {
   "cell_type": "markdown",
   "id": "64c73eb9",
   "metadata": {},
   "source": [
    "Raport może slużyć do odkładania danych z każdego dnia oraz tworzenia wykresu średniej temperatury  oraz średniego poziomu ciśnienia w Polsce każdego dnia począwszy od dnia dzisiejszego tj. 16.05.2025"
   ]
  }
 ],
 "metadata": {
  "kernelspec": {
   "display_name": "Python 3",
   "language": "python",
   "name": "python3"
  },
  "language_info": {
   "codemirror_mode": {
    "name": "ipython",
    "version": 3
   },
   "file_extension": ".py",
   "mimetype": "text/x-python",
   "name": "python",
   "nbconvert_exporter": "python",
   "pygments_lexer": "ipython3",
   "version": "3.13.1"
  }
 },
 "nbformat": 4,
 "nbformat_minor": 5
}
