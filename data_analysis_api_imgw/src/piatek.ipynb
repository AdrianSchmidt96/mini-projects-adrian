{
 "cells": [
  {
   "cell_type": "markdown",
   "id": "fe5cbf2c",
   "metadata": {},
   "source": [
    "## Cel: ANALIZA ZALEŻNOŚCI + WNIOSKI\n",
    "źródło:'https://danepubliczne.imgw.pl/api/data/synop'"
   ]
  },
  {
   "cell_type": "code",
   "execution_count": 1,
   "id": "ca8f38a0",
   "metadata": {},
   "outputs": [],
   "source": [
    "import pandas as pd\n",
    "import json \n",
    "import requests\n",
    "import seaborn as sns\n",
    "import matplotlib.pyplot as plt"
   ]
  },
  {
   "cell_type": "code",
   "execution_count": 5,
   "id": "94aca0a0",
   "metadata": {},
   "outputs": [
    {
     "name": "stdout",
     "output_type": "stream",
     "text": [
      "correct connection, status code:  200\n",
      "----------------------------------------------------------------------------------\n",
      "<class 'pandas.core.frame.DataFrame'>\n",
      "RangeIndex: 62 entries, 0 to 61\n",
      "Data columns (total 10 columns):\n",
      " #   Column               Non-Null Count  Dtype \n",
      "---  ------               --------------  ----- \n",
      " 0   id_stacji            62 non-null     object\n",
      " 1   stacja               62 non-null     object\n",
      " 2   data_pomiaru         62 non-null     object\n",
      " 3   godzina_pomiaru      62 non-null     object\n",
      " 4   temperatura          61 non-null     object\n",
      " 5   predkosc_wiatru      62 non-null     object\n",
      " 6   kierunek_wiatru      62 non-null     object\n",
      " 7   wilgotnosc_wzgledna  61 non-null     object\n",
      " 8   suma_opadu           62 non-null     object\n",
      " 9   cisnienie            58 non-null     object\n",
      "dtypes: object(10)\n",
      "memory usage: 5.0+ KB\n",
      "----------------------------------------------------------------------------------\n"
     ]
    }
   ],
   "source": [
    "url ='https://danepubliczne.imgw.pl/api/data/synop'\n",
    "response = requests.get(url)\n",
    "\n",
    "if response.status_code == 200:\n",
    "    print('correct connection, status code: ', response.status_code)\n",
    "    print('----------------------------------------------------------------------------------')\n",
    "    data = response.json()\n",
    "    df = pd.DataFrame(data)\n",
    "    df.info()\n",
    "    print('----------------------------------------------------------------------------------')\n",
    "else:\n",
    "    print('problem with connection, status code: ', response.status_code)"
   ]
  },
  {
   "cell_type": "code",
   "execution_count": 6,
   "id": "65c30751",
   "metadata": {},
   "outputs": [
    {
     "data": {
      "text/html": [
       "<div>\n",
       "<style scoped>\n",
       "    .dataframe tbody tr th:only-of-type {\n",
       "        vertical-align: middle;\n",
       "    }\n",
       "\n",
       "    .dataframe tbody tr th {\n",
       "        vertical-align: top;\n",
       "    }\n",
       "\n",
       "    .dataframe thead th {\n",
       "        text-align: right;\n",
       "    }\n",
       "</style>\n",
       "<table border=\"1\" class=\"dataframe\">\n",
       "  <thead>\n",
       "    <tr style=\"text-align: right;\">\n",
       "      <th></th>\n",
       "      <th>id_stacji</th>\n",
       "      <th>stacja</th>\n",
       "      <th>data_pomiaru</th>\n",
       "      <th>godzina_pomiaru</th>\n",
       "      <th>temperatura</th>\n",
       "      <th>predkosc_wiatru</th>\n",
       "      <th>kierunek_wiatru</th>\n",
       "      <th>wilgotnosc_wzgledna</th>\n",
       "      <th>suma_opadu</th>\n",
       "      <th>cisnienie</th>\n",
       "    </tr>\n",
       "  </thead>\n",
       "  <tbody>\n",
       "    <tr>\n",
       "      <th>0</th>\n",
       "      <td>12295</td>\n",
       "      <td>Białystok</td>\n",
       "      <td>2025-05-16</td>\n",
       "      <td>11</td>\n",
       "      <td>8</td>\n",
       "      <td>3</td>\n",
       "      <td>140</td>\n",
       "      <td>88.9</td>\n",
       "      <td>10.2</td>\n",
       "      <td>1004</td>\n",
       "    </tr>\n",
       "    <tr>\n",
       "      <th>1</th>\n",
       "      <td>12600</td>\n",
       "      <td>Bielsko Biała</td>\n",
       "      <td>2025-05-16</td>\n",
       "      <td>11</td>\n",
       "      <td>10</td>\n",
       "      <td>8</td>\n",
       "      <td>240</td>\n",
       "      <td>61.4</td>\n",
       "      <td>2.9</td>\n",
       "      <td>1012.4</td>\n",
       "    </tr>\n",
       "    <tr>\n",
       "      <th>2</th>\n",
       "      <td>12235</td>\n",
       "      <td>Chojnice</td>\n",
       "      <td>2025-05-16</td>\n",
       "      <td>11</td>\n",
       "      <td>8.8</td>\n",
       "      <td>4</td>\n",
       "      <td>350</td>\n",
       "      <td>79.0</td>\n",
       "      <td>6.9</td>\n",
       "      <td>1010.7</td>\n",
       "    </tr>\n",
       "    <tr>\n",
       "      <th>3</th>\n",
       "      <td>12550</td>\n",
       "      <td>Częstochowa</td>\n",
       "      <td>2025-05-16</td>\n",
       "      <td>11</td>\n",
       "      <td>10.3</td>\n",
       "      <td>4</td>\n",
       "      <td>280</td>\n",
       "      <td>73.9</td>\n",
       "      <td>1.5</td>\n",
       "      <td>1009.5</td>\n",
       "    </tr>\n",
       "    <tr>\n",
       "      <th>4</th>\n",
       "      <td>12160</td>\n",
       "      <td>Elbląg</td>\n",
       "      <td>2025-05-16</td>\n",
       "      <td>11</td>\n",
       "      <td>7</td>\n",
       "      <td>7</td>\n",
       "      <td>350</td>\n",
       "      <td>82.8</td>\n",
       "      <td>26.1</td>\n",
       "      <td>1008.2</td>\n",
       "    </tr>\n",
       "    <tr>\n",
       "      <th>5</th>\n",
       "      <td>12155</td>\n",
       "      <td>Gdańsk</td>\n",
       "      <td>2025-05-16</td>\n",
       "      <td>11</td>\n",
       "      <td>9</td>\n",
       "      <td>6</td>\n",
       "      <td>360</td>\n",
       "      <td>74.7</td>\n",
       "      <td>9.4</td>\n",
       "      <td>1009.6</td>\n",
       "    </tr>\n",
       "    <tr>\n",
       "      <th>6</th>\n",
       "      <td>12300</td>\n",
       "      <td>Gorzów</td>\n",
       "      <td>2025-05-16</td>\n",
       "      <td>11</td>\n",
       "      <td>14.7</td>\n",
       "      <td>7</td>\n",
       "      <td>360</td>\n",
       "      <td>36.4</td>\n",
       "      <td>1.2</td>\n",
       "      <td>1012.2</td>\n",
       "    </tr>\n",
       "    <tr>\n",
       "      <th>7</th>\n",
       "      <td>12135</td>\n",
       "      <td>Hel</td>\n",
       "      <td>2025-05-16</td>\n",
       "      <td>11</td>\n",
       "      <td>10</td>\n",
       "      <td>6</td>\n",
       "      <td>350</td>\n",
       "      <td>73.8</td>\n",
       "      <td>3.2</td>\n",
       "      <td>1010.1</td>\n",
       "    </tr>\n",
       "    <tr>\n",
       "      <th>8</th>\n",
       "      <td>12500</td>\n",
       "      <td>Jelenia Góra</td>\n",
       "      <td>2025-05-16</td>\n",
       "      <td>11</td>\n",
       "      <td>10.2</td>\n",
       "      <td>2</td>\n",
       "      <td>320</td>\n",
       "      <td>69.8</td>\n",
       "      <td>7.6</td>\n",
       "      <td>1012.8</td>\n",
       "    </tr>\n",
       "    <tr>\n",
       "      <th>9</th>\n",
       "      <td>12435</td>\n",
       "      <td>Kalisz</td>\n",
       "      <td>2025-05-16</td>\n",
       "      <td>11</td>\n",
       "      <td>6.8</td>\n",
       "      <td>6</td>\n",
       "      <td>350</td>\n",
       "      <td>88.8</td>\n",
       "      <td>0.6</td>\n",
       "      <td>1010.7</td>\n",
       "    </tr>\n",
       "  </tbody>\n",
       "</table>\n",
       "</div>"
      ],
      "text/plain": [
       "  id_stacji         stacja data_pomiaru godzina_pomiaru temperatura  \\\n",
       "0     12295      Białystok   2025-05-16              11           8   \n",
       "1     12600  Bielsko Biała   2025-05-16              11          10   \n",
       "2     12235       Chojnice   2025-05-16              11         8.8   \n",
       "3     12550    Częstochowa   2025-05-16              11        10.3   \n",
       "4     12160         Elbląg   2025-05-16              11           7   \n",
       "5     12155         Gdańsk   2025-05-16              11           9   \n",
       "6     12300         Gorzów   2025-05-16              11        14.7   \n",
       "7     12135            Hel   2025-05-16              11          10   \n",
       "8     12500   Jelenia Góra   2025-05-16              11        10.2   \n",
       "9     12435         Kalisz   2025-05-16              11         6.8   \n",
       "\n",
       "  predkosc_wiatru kierunek_wiatru wilgotnosc_wzgledna suma_opadu cisnienie  \n",
       "0               3             140                88.9       10.2      1004  \n",
       "1               8             240                61.4        2.9    1012.4  \n",
       "2               4             350                79.0        6.9    1010.7  \n",
       "3               4             280                73.9        1.5    1009.5  \n",
       "4               7             350                82.8       26.1    1008.2  \n",
       "5               6             360                74.7        9.4    1009.6  \n",
       "6               7             360                36.4        1.2    1012.2  \n",
       "7               6             350                73.8        3.2    1010.1  \n",
       "8               2             320                69.8        7.6    1012.8  \n",
       "9               6             350                88.8        0.6    1010.7  "
      ]
     },
     "execution_count": 6,
     "metadata": {},
     "output_type": "execute_result"
    }
   ],
   "source": [
    "df.head(10)"
   ]
  },
  {
   "cell_type": "markdown",
   "id": "cf75710b",
   "metadata": {},
   "source": [
    "## Wykres korelacji między temperaturą a ciśnieniem\n"
   ]
  },
  {
   "cell_type": "code",
   "execution_count": 13,
   "id": "a333de06",
   "metadata": {},
   "outputs": [
    {
     "data": {
      "text/plain": [
       "<Axes: xlabel='temperatura', ylabel='cisnienie'>"
      ]
     },
     "execution_count": 13,
     "metadata": {},
     "output_type": "execute_result"
    },
    {
     "data": {
      "image/png": "[encoded data removed]",
      "text/plain": [
       "<Figure size 640x480 with 1 Axes>"
      ]
     },
     "metadata": {},
     "output_type": "display_data"
    }
   ],
   "source": [
    "sns.scatterplot(data=df.sort_values(by='temperatura',ascending=False).head(15), x='temperatura', y='cisnienie')\n"
   ]
  },
  {
   "cell_type": "code",
   "execution_count": 17,
   "id": "cfcaed2f",
   "metadata": {},
   "outputs": [
    {
     "data": {
      "text/html": [
       "<div>\n",
       "<style scoped>\n",
       "    .dataframe tbody tr th:only-of-type {\n",
       "        vertical-align: middle;\n",
       "    }\n",
       "\n",
       "    .dataframe tbody tr th {\n",
       "        vertical-align: top;\n",
       "    }\n",
       "\n",
       "    .dataframe thead th {\n",
       "        text-align: right;\n",
       "    }\n",
       "</style>\n",
       "<table border=\"1\" class=\"dataframe\">\n",
       "  <thead>\n",
       "    <tr style=\"text-align: right;\">\n",
       "      <th></th>\n",
       "      <th>temperatura</th>\n",
       "      <th>cisnienie</th>\n",
       "    </tr>\n",
       "  </thead>\n",
       "  <tbody>\n",
       "    <tr>\n",
       "      <th>temperatura</th>\n",
       "      <td>1.000000</td>\n",
       "      <td>0.645192</td>\n",
       "    </tr>\n",
       "    <tr>\n",
       "      <th>cisnienie</th>\n",
       "      <td>0.645192</td>\n",
       "      <td>1.000000</td>\n",
       "    </tr>\n",
       "  </tbody>\n",
       "</table>\n",
       "</div>"
      ],
      "text/plain": [
       "             temperatura  cisnienie\n",
       "temperatura     1.000000   0.645192\n",
       "cisnienie       0.645192   1.000000"
      ]
     },
     "execution_count": 17,
     "metadata": {},
     "output_type": "execute_result"
    }
   ],
   "source": [
    "df[['temperatura', 'cisnienie']].corr()"
   ]
  },
  {
   "cell_type": "markdown",
   "id": "d91d7fce",
   "metadata": {},
   "source": [
    "## Wnioski:\n",
    "\n",
    "Na wykresie widoczna jest korelacja spadku ciśnienia ze wzrostem temperatury co daje nam ujemną korelację"
   ]
  },
  {
   "cell_type": "markdown",
   "id": "f3f6cb05",
   "metadata": {},
   "source": [
    "## Heatmapa korelacji pogodowych zmiennych"
   ]
  },
  {
   "cell_type": "code",
   "execution_count": 18,
   "id": "fa52484e",
   "metadata": {},
   "outputs": [
    {
     "data": {
      "text/plain": [
       "<Axes: >"
      ]
     },
     "execution_count": 18,
     "metadata": {},
     "output_type": "execute_result"
    },
    {
     "data": {
      "image/png": "[encoded data removed]",
      "text/plain": [
       "<Figure size 640x480 with 2 Axes>"
      ]
     },
     "metadata": {},
     "output_type": "display_data"
    }
   ],
   "source": [
    "sns.heatmap(data= df[['temperatura','cisnienie','wilgotnosc_wzgledna', 'suma_opadu']].corr(),annot=True)"
   ]
  },
  {
   "cell_type": "code",
   "execution_count": null,
   "id": "8b97f684",
   "metadata": {},
   "outputs": [],
   "source": []
  }
 ],
 "metadata": {
  "kernelspec": {
   "display_name": "Python 3",
   "language": "python",
   "name": "python3"
  },
  "language_info": {
   "codemirror_mode": {
    "name": "ipython",
    "version": 3
   },
   "file_extension": ".py",
   "mimetype": "text/x-python",
   "name": "python",
   "nbconvert_exporter": "python",
   "pygments_lexer": "ipython3",
   "version": "3.13.1"
  }
 },
 "nbformat": 4,
 "nbformat_minor": 5
}
