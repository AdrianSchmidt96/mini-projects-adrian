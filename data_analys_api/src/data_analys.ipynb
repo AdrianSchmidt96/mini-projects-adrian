{
 "cells": [
  {
   "cell_type": "markdown",
   "id": "e3ecb226",
   "metadata": {},
   "source": [
    "## Pobranie danych API 'https://dane.gov.pl/pl'\n"
   ]
  },
  {
   "cell_type": "code",
   "execution_count": 2,
   "id": "ade3c63f",
   "metadata": {},
   "outputs": [],
   "source": [
    "import json\n",
    "import requests\n",
    "import pandas as pd"
   ]
  },
  {
   "cell_type": "code",
   "execution_count": 4,
   "id": "9934b7db",
   "metadata": {},
   "outputs": [
    {
     "name": "stdout",
     "output_type": "stream",
     "text": [
      "200\n"
     ]
    }
   ],
   "source": [
    "url = 'https://public-esa.ose.gov.pl/api/v1/smog'\n",
    "response = requests.get(url)\n",
    "print(response.status_code)"
   ]
  },
  {
   "cell_type": "code",
   "execution_count": 13,
   "id": "ed2b071d",
   "metadata": {},
   "outputs": [
    {
     "name": "stdout",
     "output_type": "stream",
     "text": [
      "<class 'dict'>\n",
      "dict_keys(['smog_data', 'it_has_next_page', 'pages_total'])\n"
     ]
    }
   ],
   "source": [
    "data = response.json()\n",
    "print(type(data))\n",
    "print(data.keys())"
   ]
  },
  {
   "cell_type": "code",
   "execution_count": 15,
   "id": "7b280319",
   "metadata": {},
   "outputs": [
    {
     "data": {
      "text/html": [
       "<div>\n",
       "<style scoped>\n",
       "    .dataframe tbody tr th:only-of-type {\n",
       "        vertical-align: middle;\n",
       "    }\n",
       "\n",
       "    .dataframe tbody tr th {\n",
       "        vertical-align: top;\n",
       "    }\n",
       "\n",
       "    .dataframe thead th {\n",
       "        text-align: right;\n",
       "    }\n",
       "</style>\n",
       "<table border=\"1\" class=\"dataframe\">\n",
       "  <thead>\n",
       "    <tr style=\"text-align: right;\">\n",
       "      <th></th>\n",
       "      <th>timestamp</th>\n",
       "      <th>school.name</th>\n",
       "      <th>school.street</th>\n",
       "      <th>school.post_code</th>\n",
       "      <th>school.city</th>\n",
       "      <th>school.longitude</th>\n",
       "      <th>school.latitude</th>\n",
       "      <th>data.humidity_avg</th>\n",
       "      <th>data.pressure_avg</th>\n",
       "      <th>data.temperature_avg</th>\n",
       "      <th>data.pm10_avg</th>\n",
       "      <th>data.pm25_avg</th>\n",
       "    </tr>\n",
       "  </thead>\n",
       "  <tbody>\n",
       "    <tr>\n",
       "      <th>0</th>\n",
       "      <td>2025-05-15 17:42:41</td>\n",
       "      <td>SZKOŁA PODSTAWOWA WE WRZĄSOWICACH</td>\n",
       "      <td>UL. SZKOLNA</td>\n",
       "      <td>32-040</td>\n",
       "      <td>WRZĄSOWICE</td>\n",
       "      <td>19.94282</td>\n",
       "      <td>49.96103</td>\n",
       "      <td>51.180000</td>\n",
       "      <td>971.600000</td>\n",
       "      <td>11.140000</td>\n",
       "      <td>2.980000</td>\n",
       "      <td>2.680000</td>\n",
       "    </tr>\n",
       "    <tr>\n",
       "      <th>1</th>\n",
       "      <td>2025-05-15 17:42:41</td>\n",
       "      <td>PUBLICZNA SZKOŁA PODSTAWOWA NR 2 IM. KAZIMIERZ...</td>\n",
       "      <td>UL. WAWRZYŃCA ŚWIERZEGO</td>\n",
       "      <td>47-100</td>\n",
       "      <td>STRZELCE OPOLSKIE</td>\n",
       "      <td>18.314889</td>\n",
       "      <td>50.503431</td>\n",
       "      <td>61.666667</td>\n",
       "      <td>1026.000000</td>\n",
       "      <td>8.733333</td>\n",
       "      <td>1.000000</td>\n",
       "      <td>0.573333</td>\n",
       "    </tr>\n",
       "    <tr>\n",
       "      <th>2</th>\n",
       "      <td>2025-05-15 17:42:41</td>\n",
       "      <td>ZESPÓŁ SZKÓŁ NR 1 W PSZCZYNIE</td>\n",
       "      <td>UL. KAZIMIERZA WIELKIEGO</td>\n",
       "      <td>43-200</td>\n",
       "      <td>PSZCZYNA</td>\n",
       "      <td>18.9457058</td>\n",
       "      <td>49.965883</td>\n",
       "      <td>57.000000</td>\n",
       "      <td>988.600000</td>\n",
       "      <td>12.566667</td>\n",
       "      <td>2.466667</td>\n",
       "      <td>1.506667</td>\n",
       "    </tr>\n",
       "    <tr>\n",
       "      <th>3</th>\n",
       "      <td>2025-05-15 17:42:41</td>\n",
       "      <td>SPECJALNY OŚRODEK WYCHOWAWCZY NR 1 W OSTROWCU ...</td>\n",
       "      <td>SZKOLNA</td>\n",
       "      <td>27-400</td>\n",
       "      <td>OSTROWIEC ŚWIĘTOKRZYSKI</td>\n",
       "      <td>21.418144</td>\n",
       "      <td>50.9312</td>\n",
       "      <td>91.970000</td>\n",
       "      <td>995.090000</td>\n",
       "      <td>5.000000</td>\n",
       "      <td>44.020000</td>\n",
       "      <td>25.100000</td>\n",
       "    </tr>\n",
       "    <tr>\n",
       "      <th>4</th>\n",
       "      <td>2025-05-15 17:42:41</td>\n",
       "      <td>SZKOŁA PODSTAWOWA IM. ORŁA BIAŁEGO W KUROWICAC...</td>\n",
       "      <td>SZKOLNA</td>\n",
       "      <td>95-006</td>\n",
       "      <td>WOLA RAKOWA</td>\n",
       "      <td>19.61157</td>\n",
       "      <td>51.67447</td>\n",
       "      <td>60.700000</td>\n",
       "      <td>986.133333</td>\n",
       "      <td>11.800000</td>\n",
       "      <td>33.833333</td>\n",
       "      <td>17.713333</td>\n",
       "    </tr>\n",
       "  </tbody>\n",
       "</table>\n",
       "</div>"
      ],
      "text/plain": [
       "             timestamp                                        school.name  \\\n",
       "0  2025-05-15 17:42:41                  SZKOŁA PODSTAWOWA WE WRZĄSOWICACH   \n",
       "1  2025-05-15 17:42:41  PUBLICZNA SZKOŁA PODSTAWOWA NR 2 IM. KAZIMIERZ...   \n",
       "2  2025-05-15 17:42:41                      ZESPÓŁ SZKÓŁ NR 1 W PSZCZYNIE   \n",
       "3  2025-05-15 17:42:41  SPECJALNY OŚRODEK WYCHOWAWCZY NR 1 W OSTROWCU ...   \n",
       "4  2025-05-15 17:42:41  SZKOŁA PODSTAWOWA IM. ORŁA BIAŁEGO W KUROWICAC...   \n",
       "\n",
       "              school.street school.post_code              school.city  \\\n",
       "0               UL. SZKOLNA           32-040               WRZĄSOWICE   \n",
       "1   UL. WAWRZYŃCA ŚWIERZEGO           47-100        STRZELCE OPOLSKIE   \n",
       "2  UL. KAZIMIERZA WIELKIEGO           43-200                 PSZCZYNA   \n",
       "3                   SZKOLNA           27-400  OSTROWIEC ŚWIĘTOKRZYSKI   \n",
       "4                   SZKOLNA           95-006              WOLA RAKOWA   \n",
       "\n",
       "  school.longitude school.latitude  data.humidity_avg  data.pressure_avg  \\\n",
       "0         19.94282        49.96103          51.180000         971.600000   \n",
       "1        18.314889       50.503431          61.666667        1026.000000   \n",
       "2       18.9457058       49.965883          57.000000         988.600000   \n",
       "3        21.418144         50.9312          91.970000         995.090000   \n",
       "4         19.61157        51.67447          60.700000         986.133333   \n",
       "\n",
       "   data.temperature_avg  data.pm10_avg  data.pm25_avg  \n",
       "0             11.140000       2.980000       2.680000  \n",
       "1              8.733333       1.000000       0.573333  \n",
       "2             12.566667       2.466667       1.506667  \n",
       "3              5.000000      44.020000      25.100000  \n",
       "4             11.800000      33.833333      17.713333  "
      ]
     },
     "execution_count": 15,
     "metadata": {},
     "output_type": "execute_result"
    }
   ],
   "source": [
    "df = pd.json_normalize(data['smog_data'])\n",
    "df.head()"
   ]
  },
  {
   "cell_type": "code",
   "execution_count": 16,
   "id": "b75f1d66",
   "metadata": {},
   "outputs": [
    {
     "data": {
      "text/plain": [
       "Index(['timestamp', 'school.name', 'school.street', 'school.post_code',\n",
       "       'school.city', 'school.longitude', 'school.latitude',\n",
       "       'data.humidity_avg', 'data.pressure_avg', 'data.temperature_avg',\n",
       "       'data.pm10_avg', 'data.pm25_avg'],\n",
       "      dtype='object')"
      ]
     },
     "execution_count": 16,
     "metadata": {},
     "output_type": "execute_result"
    }
   ],
   "source": [
    "df.columns"
   ]
  },
  {
   "cell_type": "code",
   "execution_count": 17,
   "id": "012ac2bb",
   "metadata": {},
   "outputs": [
    {
     "name": "stdout",
     "output_type": "stream",
     "text": [
      "<class 'pandas.core.frame.DataFrame'>\n",
      "RangeIndex: 1184 entries, 0 to 1183\n",
      "Data columns (total 12 columns):\n",
      " #   Column                Non-Null Count  Dtype  \n",
      "---  ------                --------------  -----  \n",
      " 0   timestamp             1184 non-null   object \n",
      " 1   school.name           1184 non-null   object \n",
      " 2   school.street         945 non-null    object \n",
      " 3   school.post_code      1184 non-null   object \n",
      " 4   school.city           1184 non-null   object \n",
      " 5   school.longitude      1184 non-null   object \n",
      " 6   school.latitude       1184 non-null   object \n",
      " 7   data.humidity_avg     1182 non-null   float64\n",
      " 8   data.pressure_avg     1182 non-null   float64\n",
      " 9   data.temperature_avg  1182 non-null   float64\n",
      " 10  data.pm10_avg         1184 non-null   float64\n",
      " 11  data.pm25_avg         1184 non-null   float64\n",
      "dtypes: float64(5), object(7)\n",
      "memory usage: 111.1+ KB\n"
     ]
    }
   ],
   "source": [
    "df.info()"
   ]
  },
  {
   "cell_type": "code",
   "execution_count": 18,
   "id": "fc785dec",
   "metadata": {},
   "outputs": [
    {
     "data": {
      "text/plain": [
       "timestamp                 0\n",
       "school.name               0\n",
       "school.street           239\n",
       "school.post_code          0\n",
       "school.city               0\n",
       "school.longitude          0\n",
       "school.latitude           0\n",
       "data.humidity_avg         2\n",
       "data.pressure_avg         2\n",
       "data.temperature_avg      2\n",
       "data.pm10_avg             0\n",
       "data.pm25_avg             0\n",
       "dtype: int64"
      ]
     },
     "execution_count": 18,
     "metadata": {},
     "output_type": "execute_result"
    }
   ],
   "source": [
    "df.isnull().sum()"
   ]
  },
  {
   "cell_type": "markdown",
   "id": "a2f8445c",
   "metadata": {},
   "source": [
    "## Wnioski"
   ]
  },
  {
   "cell_type": "markdown",
   "id": "d069a7c0",
   "metadata": {},
   "source": [
    "Dane przedstawione w analizie posiadają braki w kolumnach: school.street (239), data.humidity_avg(2), data.pressure_avg(2), data.temperature_avg (2). Dane dotyczą adresów szkoły z dokładnością do szerokości geograficznej."
   ]
  },
  {
   "cell_type": "markdown",
   "id": "df84b810",
   "metadata": {},
   "source": [
    "## Co udało się zrobić?:\n",
    "- zaimportowalem dane json\n",
    "- rozbiłem zagnieżdżenie\n",
    "- zweryfikowałem jakość danych"
   ]
  },
  {
   "cell_type": "markdown",
   "id": "10bf4594",
   "metadata": {},
   "source": []
  }
 ],
 "metadata": {
  "kernelspec": {
   "display_name": "Python 3",
   "language": "python",
   "name": "python3"
  },
  "language_info": {
   "codemirror_mode": {
    "name": "ipython",
    "version": 3
   },
   "file_extension": ".py",
   "mimetype": "text/x-python",
   "name": "python",
   "nbconvert_exporter": "python",
   "pygments_lexer": "ipython3",
   "version": "3.13.1"
  }
 },
 "nbformat": 4,
 "nbformat_minor": 5
}
