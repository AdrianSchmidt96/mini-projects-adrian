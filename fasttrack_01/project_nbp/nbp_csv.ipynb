{
 "cells": [
  {
   "cell_type": "markdown",
   "id": "073dc7c3",
   "metadata": {},
   "source": [
    "## KROK 1: Pobranie danych z API, weryfikacja, zapis do CSV surowych danych\n"
   ]
  },
  {
   "cell_type": "code",
   "execution_count": 184,
   "id": "a689d08a",
   "metadata": {},
   "outputs": [],
   "source": [
    "import pandas as pd\n",
    "import requests\n",
    "import json \n",
    "import seaborn as sns\n",
    "import matplotlib.pyplot as plt\n",
    "from datetime import datetime"
   ]
  },
  {
   "cell_type": "code",
   "execution_count": 185,
   "id": "a96452b6",
   "metadata": {},
   "outputs": [
    {
     "name": "stdout",
     "output_type": "stream",
     "text": [
      "[{'table': 'A', 'no': '104/A/NBP/2025', 'effectiveDate': '2025-05-30', 'rates': [{'currency': 'bat (Tajlandia)', 'code': 'THB', 'mid': 0.1145}, {'currency': 'dolar amerykański', 'code': 'USD', 'mid': 3.7537}, {'currency': 'dolar australijski', 'code': 'AUD', 'mid': 2.4079}, {'currency': 'dolar Hongkongu', 'code': 'HKD', 'mid': 0.4786}, {'currency': 'dolar kanadyjski', 'code': 'CAD', 'mid': 2.7167}, {'currency': 'dolar nowozelandzki', 'code': 'NZD', 'mid': 2.2338}, {'currency': 'dolar singapurski', 'code': 'SGD', 'mid': 2.9073}, {'currency': 'euro', 'code': 'EUR', 'mid': 4.2507}, {'currency': 'forint (Węgry)', 'code': 'HUF', 'mid': 0.01052}, {'currency': 'frank szwajcarski', 'code': 'CHF', 'mid': 4.5555}, {'currency': 'funt szterling', 'code': 'GBP', 'mid': 5.0552}, {'currency': 'hrywna (Ukraina)', 'code': 'UAH', 'mid': 0.0904}, {'currency': 'jen (Japonia)', 'code': 'JPY', 'mid': 0.026056}, {'currency': 'korona czeska', 'code': 'CZK', 'mid': 0.1704}, {'currency': 'korona duńska', 'code': 'DKK', 'mid': 0.5699}, {'currency': 'korona islandzka', 'code': 'ISK', 'mid': 0.029478}, {'currency': 'korona norweska', 'code': 'NOK', 'mid': 0.3685}, {'currency': 'korona szwedzka', 'code': 'SEK', 'mid': 0.3907}, {'currency': 'lej rumuński', 'code': 'RON', 'mid': 0.8391}, {'currency': 'lew (Bułgaria)', 'code': 'BGN', 'mid': 2.1733}, {'currency': 'lira turecka', 'code': 'TRY', 'mid': 0.0956}, {'currency': 'nowy izraelski szekel', 'code': 'ILS', 'mid': 1.0671}, {'currency': 'peso chilijskie', 'code': 'CLP', 'mid': 0.00401}, {'currency': 'peso filipińskie', 'code': 'PHP', 'mid': 0.0673}, {'currency': 'peso meksykańskie', 'code': 'MXN', 'mid': 0.1944}, {'currency': 'rand (Republika Południowej Afryki)', 'code': 'ZAR', 'mid': 0.21}, {'currency': 'real (Brazylia)', 'code': 'BRL', 'mid': 0.662}, {'currency': 'ringgit (Malezja)', 'code': 'MYR', 'mid': 0.8832}, {'currency': 'rupia indonezyjska', 'code': 'IDR', 'mid': 0.00023043}, {'currency': 'rupia indyjska', 'code': 'INR', 'mid': 0.043832}, {'currency': 'won południowokoreański', 'code': 'KRW', 'mid': 0.00272}, {'currency': 'yuan renminbi (Chiny)', 'code': 'CNY', 'mid': 0.5216}, {'currency': 'SDR (MFW)', 'code': 'XDR', 'mid': 5.1046}]}]\n"
     ]
    }
   ],
   "source": [
    "url = 'http://api.nbp.pl/api/exchangerates/tables/A?format=json'\n",
    "\n",
    "response = requests.get(url)\n",
    "data = response.json()\n",
    "print(data)"
   ]
  },
  {
   "cell_type": "code",
   "execution_count": 186,
   "id": "5de9a5cc",
   "metadata": {},
   "outputs": [
    {
     "data": {
      "text/html": [
       "<div>\n",
       "<style scoped>\n",
       "    .dataframe tbody tr th:only-of-type {\n",
       "        vertical-align: middle;\n",
       "    }\n",
       "\n",
       "    .dataframe tbody tr th {\n",
       "        vertical-align: top;\n",
       "    }\n",
       "\n",
       "    .dataframe thead th {\n",
       "        text-align: right;\n",
       "    }\n",
       "</style>\n",
       "<table border=\"1\" class=\"dataframe\">\n",
       "  <thead>\n",
       "    <tr style=\"text-align: right;\">\n",
       "      <th></th>\n",
       "      <th>currency</th>\n",
       "      <th>code</th>\n",
       "      <th>mid</th>\n",
       "    </tr>\n",
       "  </thead>\n",
       "  <tbody>\n",
       "    <tr>\n",
       "      <th>0</th>\n",
       "      <td>bat (Tajlandia)</td>\n",
       "      <td>THB</td>\n",
       "      <td>0.1145</td>\n",
       "    </tr>\n",
       "    <tr>\n",
       "      <th>1</th>\n",
       "      <td>dolar amerykański</td>\n",
       "      <td>USD</td>\n",
       "      <td>3.7537</td>\n",
       "    </tr>\n",
       "    <tr>\n",
       "      <th>2</th>\n",
       "      <td>dolar australijski</td>\n",
       "      <td>AUD</td>\n",
       "      <td>2.4079</td>\n",
       "    </tr>\n",
       "    <tr>\n",
       "      <th>3</th>\n",
       "      <td>dolar Hongkongu</td>\n",
       "      <td>HKD</td>\n",
       "      <td>0.4786</td>\n",
       "    </tr>\n",
       "    <tr>\n",
       "      <th>4</th>\n",
       "      <td>dolar kanadyjski</td>\n",
       "      <td>CAD</td>\n",
       "      <td>2.7167</td>\n",
       "    </tr>\n",
       "  </tbody>\n",
       "</table>\n",
       "</div>"
      ],
      "text/plain": [
       "             currency code     mid\n",
       "0     bat (Tajlandia)  THB  0.1145\n",
       "1   dolar amerykański  USD  3.7537\n",
       "2  dolar australijski  AUD  2.4079\n",
       "3     dolar Hongkongu  HKD  0.4786\n",
       "4    dolar kanadyjski  CAD  2.7167"
      ]
     },
     "execution_count": 186,
     "metadata": {},
     "output_type": "execute_result"
    }
   ],
   "source": [
    "df = pd.DataFrame(data[0]['rates'])\n",
    "\n",
    "df.head()"
   ]
  },
  {
   "cell_type": "code",
   "execution_count": 187,
   "id": "5646f732",
   "metadata": {},
   "outputs": [
    {
     "data": {
      "text/html": [
       "<div>\n",
       "<style scoped>\n",
       "    .dataframe tbody tr th:only-of-type {\n",
       "        vertical-align: middle;\n",
       "    }\n",
       "\n",
       "    .dataframe tbody tr th {\n",
       "        vertical-align: top;\n",
       "    }\n",
       "\n",
       "    .dataframe thead th {\n",
       "        text-align: right;\n",
       "    }\n",
       "</style>\n",
       "<table border=\"1\" class=\"dataframe\">\n",
       "  <thead>\n",
       "    <tr style=\"text-align: right;\">\n",
       "      <th></th>\n",
       "      <th>currency</th>\n",
       "      <th>code</th>\n",
       "      <th>mid</th>\n",
       "      <th>date</th>\n",
       "    </tr>\n",
       "  </thead>\n",
       "  <tbody>\n",
       "    <tr>\n",
       "      <th>0</th>\n",
       "      <td>bat (Tajlandia)</td>\n",
       "      <td>THB</td>\n",
       "      <td>0.1145</td>\n",
       "      <td>2025-05-30</td>\n",
       "    </tr>\n",
       "    <tr>\n",
       "      <th>1</th>\n",
       "      <td>dolar amerykański</td>\n",
       "      <td>USD</td>\n",
       "      <td>3.7537</td>\n",
       "      <td>2025-05-30</td>\n",
       "    </tr>\n",
       "    <tr>\n",
       "      <th>2</th>\n",
       "      <td>dolar australijski</td>\n",
       "      <td>AUD</td>\n",
       "      <td>2.4079</td>\n",
       "      <td>2025-05-30</td>\n",
       "    </tr>\n",
       "    <tr>\n",
       "      <th>3</th>\n",
       "      <td>dolar Hongkongu</td>\n",
       "      <td>HKD</td>\n",
       "      <td>0.4786</td>\n",
       "      <td>2025-05-30</td>\n",
       "    </tr>\n",
       "    <tr>\n",
       "      <th>4</th>\n",
       "      <td>dolar kanadyjski</td>\n",
       "      <td>CAD</td>\n",
       "      <td>2.7167</td>\n",
       "      <td>2025-05-30</td>\n",
       "    </tr>\n",
       "  </tbody>\n",
       "</table>\n",
       "</div>"
      ],
      "text/plain": [
       "             currency code     mid        date\n",
       "0     bat (Tajlandia)  THB  0.1145  2025-05-30\n",
       "1   dolar amerykański  USD  3.7537  2025-05-30\n",
       "2  dolar australijski  AUD  2.4079  2025-05-30\n",
       "3     dolar Hongkongu  HKD  0.4786  2025-05-30\n",
       "4    dolar kanadyjski  CAD  2.7167  2025-05-30"
      ]
     },
     "execution_count": 187,
     "metadata": {},
     "output_type": "execute_result"
    }
   ],
   "source": [
    "date = data[0]['effectiveDate']\n",
    "df['date'] = date\n",
    "\n",
    "df.head()"
   ]
  },
  {
   "cell_type": "code",
   "execution_count": 188,
   "id": "11f4314a",
   "metadata": {},
   "outputs": [
    {
     "data": {
      "text/plain": [
       "currency    0\n",
       "code        0\n",
       "mid         0\n",
       "date        0\n",
       "dtype: int64"
      ]
     },
     "execution_count": 188,
     "metadata": {},
     "output_type": "execute_result"
    }
   ],
   "source": [
    "df.isnull().sum()"
   ]
  },
  {
   "cell_type": "code",
   "execution_count": 189,
   "id": "a1c64f58",
   "metadata": {},
   "outputs": [
    {
     "data": {
      "text/html": [
       "<div>\n",
       "<style scoped>\n",
       "    .dataframe tbody tr th:only-of-type {\n",
       "        vertical-align: middle;\n",
       "    }\n",
       "\n",
       "    .dataframe tbody tr th {\n",
       "        vertical-align: top;\n",
       "    }\n",
       "\n",
       "    .dataframe thead th {\n",
       "        text-align: right;\n",
       "    }\n",
       "</style>\n",
       "<table border=\"1\" class=\"dataframe\">\n",
       "  <thead>\n",
       "    <tr style=\"text-align: right;\">\n",
       "      <th></th>\n",
       "      <th>mid</th>\n",
       "    </tr>\n",
       "  </thead>\n",
       "  <tbody>\n",
       "    <tr>\n",
       "      <th>count</th>\n",
       "      <td>33.000000</td>\n",
       "    </tr>\n",
       "    <tr>\n",
       "      <th>mean</th>\n",
       "      <td>1.272692</td>\n",
       "    </tr>\n",
       "    <tr>\n",
       "      <th>std</th>\n",
       "      <td>1.646402</td>\n",
       "    </tr>\n",
       "    <tr>\n",
       "      <th>min</th>\n",
       "      <td>0.000230</td>\n",
       "    </tr>\n",
       "    <tr>\n",
       "      <th>25%</th>\n",
       "      <td>0.090400</td>\n",
       "    </tr>\n",
       "    <tr>\n",
       "      <th>50%</th>\n",
       "      <td>0.478600</td>\n",
       "    </tr>\n",
       "    <tr>\n",
       "      <th>75%</th>\n",
       "      <td>2.233800</td>\n",
       "    </tr>\n",
       "    <tr>\n",
       "      <th>max</th>\n",
       "      <td>5.104600</td>\n",
       "    </tr>\n",
       "  </tbody>\n",
       "</table>\n",
       "</div>"
      ],
      "text/plain": [
       "             mid\n",
       "count  33.000000\n",
       "mean    1.272692\n",
       "std     1.646402\n",
       "min     0.000230\n",
       "25%     0.090400\n",
       "50%     0.478600\n",
       "75%     2.233800\n",
       "max     5.104600"
      ]
     },
     "execution_count": 189,
     "metadata": {},
     "output_type": "execute_result"
    }
   ],
   "source": [
    "df.describe()"
   ]
  },
  {
   "cell_type": "code",
   "execution_count": 190,
   "id": "4517ad69",
   "metadata": {},
   "outputs": [
    {
     "name": "stdout",
     "output_type": "stream",
     "text": [
      "<class 'pandas.core.frame.DataFrame'>\n",
      "RangeIndex: 33 entries, 0 to 32\n",
      "Data columns (total 4 columns):\n",
      " #   Column    Non-Null Count  Dtype  \n",
      "---  ------    --------------  -----  \n",
      " 0   currency  33 non-null     object \n",
      " 1   code      33 non-null     object \n",
      " 2   mid       33 non-null     float64\n",
      " 3   date      33 non-null     object \n",
      "dtypes: float64(1), object(3)\n",
      "memory usage: 1.2+ KB\n"
     ]
    }
   ],
   "source": [
    "df.info()"
   ]
  },
  {
   "cell_type": "code",
   "execution_count": 191,
   "id": "d46f1ac8",
   "metadata": {},
   "outputs": [],
   "source": [
    "today =  datetime.today().strftime('%Y-%m-%d')\n",
    "filename = f'data_raw/kursy_nbp_raw{today}.csv'\n",
    "df.to_csv(filename, index= False)"
   ]
  },
  {
   "cell_type": "markdown",
   "id": "d2fff089",
   "metadata": {},
   "source": [
    "## KROK 2: Analiza danych z CSV"
   ]
  },
  {
   "cell_type": "markdown",
   "id": "6a47a38d",
   "metadata": {},
   "source": [
    "Wczytanie pliku CSV"
   ]
  },
  {
   "cell_type": "code",
   "execution_count": 192,
   "id": "229efee9",
   "metadata": {},
   "outputs": [
    {
     "data": {
      "text/html": [
       "<div>\n",
       "<style scoped>\n",
       "    .dataframe tbody tr th:only-of-type {\n",
       "        vertical-align: middle;\n",
       "    }\n",
       "\n",
       "    .dataframe tbody tr th {\n",
       "        vertical-align: top;\n",
       "    }\n",
       "\n",
       "    .dataframe thead th {\n",
       "        text-align: right;\n",
       "    }\n",
       "</style>\n",
       "<table border=\"1\" class=\"dataframe\">\n",
       "  <thead>\n",
       "    <tr style=\"text-align: right;\">\n",
       "      <th></th>\n",
       "      <th>currency</th>\n",
       "      <th>code</th>\n",
       "      <th>mid</th>\n",
       "      <th>date</th>\n",
       "    </tr>\n",
       "  </thead>\n",
       "  <tbody>\n",
       "    <tr>\n",
       "      <th>0</th>\n",
       "      <td>bat (Tajlandia)</td>\n",
       "      <td>THB</td>\n",
       "      <td>0.1145</td>\n",
       "      <td>2025-05-30</td>\n",
       "    </tr>\n",
       "    <tr>\n",
       "      <th>1</th>\n",
       "      <td>dolar amerykański</td>\n",
       "      <td>USD</td>\n",
       "      <td>3.7537</td>\n",
       "      <td>2025-05-30</td>\n",
       "    </tr>\n",
       "    <tr>\n",
       "      <th>2</th>\n",
       "      <td>dolar australijski</td>\n",
       "      <td>AUD</td>\n",
       "      <td>2.4079</td>\n",
       "      <td>2025-05-30</td>\n",
       "    </tr>\n",
       "    <tr>\n",
       "      <th>3</th>\n",
       "      <td>dolar Hongkongu</td>\n",
       "      <td>HKD</td>\n",
       "      <td>0.4786</td>\n",
       "      <td>2025-05-30</td>\n",
       "    </tr>\n",
       "    <tr>\n",
       "      <th>4</th>\n",
       "      <td>dolar kanadyjski</td>\n",
       "      <td>CAD</td>\n",
       "      <td>2.7167</td>\n",
       "      <td>2025-05-30</td>\n",
       "    </tr>\n",
       "  </tbody>\n",
       "</table>\n",
       "</div>"
      ],
      "text/plain": [
       "             currency code     mid        date\n",
       "0     bat (Tajlandia)  THB  0.1145  2025-05-30\n",
       "1   dolar amerykański  USD  3.7537  2025-05-30\n",
       "2  dolar australijski  AUD  2.4079  2025-05-30\n",
       "3     dolar Hongkongu  HKD  0.4786  2025-05-30\n",
       "4    dolar kanadyjski  CAD  2.7167  2025-05-30"
      ]
     },
     "execution_count": 192,
     "metadata": {},
     "output_type": "execute_result"
    }
   ],
   "source": [
    "read_file = f'data_raw/kursy_nbp_raw{today}.csv'\n",
    "df2 = pd.read_csv(read_file)\n",
    "df2.head()"
   ]
  },
  {
   "cell_type": "code",
   "execution_count": 193,
   "id": "d209b621",
   "metadata": {},
   "outputs": [
    {
     "name": "stdout",
     "output_type": "stream",
     "text": [
      "<class 'pandas.core.frame.DataFrame'>\n",
      "RangeIndex: 33 entries, 0 to 32\n",
      "Data columns (total 4 columns):\n",
      " #   Column    Non-Null Count  Dtype  \n",
      "---  ------    --------------  -----  \n",
      " 0   currency  33 non-null     object \n",
      " 1   code      33 non-null     object \n",
      " 2   mid       33 non-null     float64\n",
      " 3   date      33 non-null     object \n",
      "dtypes: float64(1), object(3)\n",
      "memory usage: 1.2+ KB\n"
     ]
    }
   ],
   "source": [
    "df2.info()"
   ]
  },
  {
   "cell_type": "code",
   "execution_count": 194,
   "id": "958fc987",
   "metadata": {},
   "outputs": [
    {
     "data": {
      "text/html": [
       "<div>\n",
       "<style scoped>\n",
       "    .dataframe tbody tr th:only-of-type {\n",
       "        vertical-align: middle;\n",
       "    }\n",
       "\n",
       "    .dataframe tbody tr th {\n",
       "        vertical-align: top;\n",
       "    }\n",
       "\n",
       "    .dataframe thead th {\n",
       "        text-align: right;\n",
       "    }\n",
       "</style>\n",
       "<table border=\"1\" class=\"dataframe\">\n",
       "  <thead>\n",
       "    <tr style=\"text-align: right;\">\n",
       "      <th></th>\n",
       "      <th>mid</th>\n",
       "    </tr>\n",
       "  </thead>\n",
       "  <tbody>\n",
       "    <tr>\n",
       "      <th>count</th>\n",
       "      <td>33.000000</td>\n",
       "    </tr>\n",
       "    <tr>\n",
       "      <th>mean</th>\n",
       "      <td>1.272692</td>\n",
       "    </tr>\n",
       "    <tr>\n",
       "      <th>std</th>\n",
       "      <td>1.646402</td>\n",
       "    </tr>\n",
       "    <tr>\n",
       "      <th>min</th>\n",
       "      <td>0.000230</td>\n",
       "    </tr>\n",
       "    <tr>\n",
       "      <th>25%</th>\n",
       "      <td>0.090400</td>\n",
       "    </tr>\n",
       "    <tr>\n",
       "      <th>50%</th>\n",
       "      <td>0.478600</td>\n",
       "    </tr>\n",
       "    <tr>\n",
       "      <th>75%</th>\n",
       "      <td>2.233800</td>\n",
       "    </tr>\n",
       "    <tr>\n",
       "      <th>max</th>\n",
       "      <td>5.104600</td>\n",
       "    </tr>\n",
       "  </tbody>\n",
       "</table>\n",
       "</div>"
      ],
      "text/plain": [
       "             mid\n",
       "count  33.000000\n",
       "mean    1.272692\n",
       "std     1.646402\n",
       "min     0.000230\n",
       "25%     0.090400\n",
       "50%     0.478600\n",
       "75%     2.233800\n",
       "max     5.104600"
      ]
     },
     "execution_count": 194,
     "metadata": {},
     "output_type": "execute_result"
    }
   ],
   "source": [
    "df2.describe()"
   ]
  },
  {
   "cell_type": "code",
   "execution_count": 195,
   "id": "3711ed14",
   "metadata": {},
   "outputs": [],
   "source": [
    "clean_data = f'data_processed/clean_data{today}.csv'\n",
    "df2.to_csv(clean_data,index=False)"
   ]
  },
  {
   "cell_type": "markdown",
   "id": "519da53e",
   "metadata": {},
   "source": [
    "TOP 5 najwyższch kursów na dzień analizy"
   ]
  },
  {
   "cell_type": "code",
   "execution_count": 196,
   "id": "7387d73b",
   "metadata": {},
   "outputs": [
    {
     "data": {
      "text/html": [
       "<div>\n",
       "<style scoped>\n",
       "    .dataframe tbody tr th:only-of-type {\n",
       "        vertical-align: middle;\n",
       "    }\n",
       "\n",
       "    .dataframe tbody tr th {\n",
       "        vertical-align: top;\n",
       "    }\n",
       "\n",
       "    .dataframe thead th {\n",
       "        text-align: right;\n",
       "    }\n",
       "</style>\n",
       "<table border=\"1\" class=\"dataframe\">\n",
       "  <thead>\n",
       "    <tr style=\"text-align: right;\">\n",
       "      <th></th>\n",
       "      <th>currency</th>\n",
       "      <th>code</th>\n",
       "      <th>mid</th>\n",
       "      <th>date</th>\n",
       "    </tr>\n",
       "  </thead>\n",
       "  <tbody>\n",
       "    <tr>\n",
       "      <th>32</th>\n",
       "      <td>SDR (MFW)</td>\n",
       "      <td>XDR</td>\n",
       "      <td>5.1046</td>\n",
       "      <td>2025-05-30</td>\n",
       "    </tr>\n",
       "    <tr>\n",
       "      <th>10</th>\n",
       "      <td>funt szterling</td>\n",
       "      <td>GBP</td>\n",
       "      <td>5.0552</td>\n",
       "      <td>2025-05-30</td>\n",
       "    </tr>\n",
       "    <tr>\n",
       "      <th>9</th>\n",
       "      <td>frank szwajcarski</td>\n",
       "      <td>CHF</td>\n",
       "      <td>4.5555</td>\n",
       "      <td>2025-05-30</td>\n",
       "    </tr>\n",
       "    <tr>\n",
       "      <th>7</th>\n",
       "      <td>euro</td>\n",
       "      <td>EUR</td>\n",
       "      <td>4.2507</td>\n",
       "      <td>2025-05-30</td>\n",
       "    </tr>\n",
       "    <tr>\n",
       "      <th>1</th>\n",
       "      <td>dolar amerykański</td>\n",
       "      <td>USD</td>\n",
       "      <td>3.7537</td>\n",
       "      <td>2025-05-30</td>\n",
       "    </tr>\n",
       "  </tbody>\n",
       "</table>\n",
       "</div>"
      ],
      "text/plain": [
       "             currency code     mid        date\n",
       "32          SDR (MFW)  XDR  5.1046  2025-05-30\n",
       "10     funt szterling  GBP  5.0552  2025-05-30\n",
       "9   frank szwajcarski  CHF  4.5555  2025-05-30\n",
       "7                euro  EUR  4.2507  2025-05-30\n",
       "1   dolar amerykański  USD  3.7537  2025-05-30"
      ]
     },
     "execution_count": 196,
     "metadata": {},
     "output_type": "execute_result"
    }
   ],
   "source": [
    "max_value = df2.sort_values(by='mid',ascending=False).head(5)\n",
    "max_value"
   ]
  },
  {
   "cell_type": "code",
   "execution_count": 197,
   "id": "18a6d0fb",
   "metadata": {},
   "outputs": [],
   "source": [
    "max_filname = f'reports/top5_max_value{today}.csv'\n",
    "max_value.to_csv(max_filname,index=False)"
   ]
  },
  {
   "cell_type": "markdown",
   "id": "9fb28de5",
   "metadata": {},
   "source": [
    "TOP 5 najniższych kursów na dzień analizy"
   ]
  },
  {
   "cell_type": "code",
   "execution_count": 198,
   "id": "a3d5a19c",
   "metadata": {},
   "outputs": [
    {
     "data": {
      "text/html": [
       "<div>\n",
       "<style scoped>\n",
       "    .dataframe tbody tr th:only-of-type {\n",
       "        vertical-align: middle;\n",
       "    }\n",
       "\n",
       "    .dataframe tbody tr th {\n",
       "        vertical-align: top;\n",
       "    }\n",
       "\n",
       "    .dataframe thead th {\n",
       "        text-align: right;\n",
       "    }\n",
       "</style>\n",
       "<table border=\"1\" class=\"dataframe\">\n",
       "  <thead>\n",
       "    <tr style=\"text-align: right;\">\n",
       "      <th></th>\n",
       "      <th>currency</th>\n",
       "      <th>code</th>\n",
       "      <th>mid</th>\n",
       "      <th>date</th>\n",
       "    </tr>\n",
       "  </thead>\n",
       "  <tbody>\n",
       "    <tr>\n",
       "      <th>28</th>\n",
       "      <td>rupia indonezyjska</td>\n",
       "      <td>IDR</td>\n",
       "      <td>0.000230</td>\n",
       "      <td>2025-05-30</td>\n",
       "    </tr>\n",
       "    <tr>\n",
       "      <th>30</th>\n",
       "      <td>won południowokoreański</td>\n",
       "      <td>KRW</td>\n",
       "      <td>0.002720</td>\n",
       "      <td>2025-05-30</td>\n",
       "    </tr>\n",
       "    <tr>\n",
       "      <th>22</th>\n",
       "      <td>peso chilijskie</td>\n",
       "      <td>CLP</td>\n",
       "      <td>0.004010</td>\n",
       "      <td>2025-05-30</td>\n",
       "    </tr>\n",
       "    <tr>\n",
       "      <th>8</th>\n",
       "      <td>forint (Węgry)</td>\n",
       "      <td>HUF</td>\n",
       "      <td>0.010520</td>\n",
       "      <td>2025-05-30</td>\n",
       "    </tr>\n",
       "    <tr>\n",
       "      <th>12</th>\n",
       "      <td>jen (Japonia)</td>\n",
       "      <td>JPY</td>\n",
       "      <td>0.026056</td>\n",
       "      <td>2025-05-30</td>\n",
       "    </tr>\n",
       "  </tbody>\n",
       "</table>\n",
       "</div>"
      ],
      "text/plain": [
       "                   currency code       mid        date\n",
       "28       rupia indonezyjska  IDR  0.000230  2025-05-30\n",
       "30  won południowokoreański  KRW  0.002720  2025-05-30\n",
       "22          peso chilijskie  CLP  0.004010  2025-05-30\n",
       "8            forint (Węgry)  HUF  0.010520  2025-05-30\n",
       "12            jen (Japonia)  JPY  0.026056  2025-05-30"
      ]
     },
     "execution_count": 198,
     "metadata": {},
     "output_type": "execute_result"
    }
   ],
   "source": [
    "min_value = df2.sort_values(by='mid',ascending=True).head(5)\n",
    "min_value"
   ]
  },
  {
   "cell_type": "code",
   "execution_count": 199,
   "id": "3827f9db",
   "metadata": {},
   "outputs": [],
   "source": [
    "min_filname = f'reports/top5_min_value{today}.csv'\n",
    "min_value.to_csv(min_filname,index=False)"
   ]
  },
  {
   "cell_type": "markdown",
   "id": "d8616fc5",
   "metadata": {},
   "source": [
    "Kurs waluty EURO\n"
   ]
  },
  {
   "cell_type": "code",
   "execution_count": 200,
   "id": "97c9834b",
   "metadata": {},
   "outputs": [
    {
     "name": "stdout",
     "output_type": "stream",
     "text": [
      "  currency code     mid        date\n",
      "7     euro  EUR  4.2507  2025-05-30\n"
     ]
    }
   ],
   "source": [
    "euro = df2[df2['code'] == 'EUR']\n",
    "print(euro)"
   ]
  },
  {
   "cell_type": "markdown",
   "id": "7ebfb915",
   "metadata": {},
   "source": [
    "## Krok 3 wizualizacje raportów\n"
   ]
  },
  {
   "cell_type": "code",
   "execution_count": 201,
   "id": "8d4481c5",
   "metadata": {},
   "outputs": [
    {
     "data": {
      "text/html": [
       "<div>\n",
       "<style scoped>\n",
       "    .dataframe tbody tr th:only-of-type {\n",
       "        vertical-align: middle;\n",
       "    }\n",
       "\n",
       "    .dataframe tbody tr th {\n",
       "        vertical-align: top;\n",
       "    }\n",
       "\n",
       "    .dataframe thead th {\n",
       "        text-align: right;\n",
       "    }\n",
       "</style>\n",
       "<table border=\"1\" class=\"dataframe\">\n",
       "  <thead>\n",
       "    <tr style=\"text-align: right;\">\n",
       "      <th></th>\n",
       "      <th>currency</th>\n",
       "      <th>code</th>\n",
       "      <th>mid</th>\n",
       "      <th>date</th>\n",
       "    </tr>\n",
       "  </thead>\n",
       "  <tbody>\n",
       "    <tr>\n",
       "      <th>32</th>\n",
       "      <td>SDR (MFW)</td>\n",
       "      <td>XDR</td>\n",
       "      <td>5.1046</td>\n",
       "      <td>2025-05-30</td>\n",
       "    </tr>\n",
       "    <tr>\n",
       "      <th>10</th>\n",
       "      <td>funt szterling</td>\n",
       "      <td>GBP</td>\n",
       "      <td>5.0552</td>\n",
       "      <td>2025-05-30</td>\n",
       "    </tr>\n",
       "    <tr>\n",
       "      <th>9</th>\n",
       "      <td>frank szwajcarski</td>\n",
       "      <td>CHF</td>\n",
       "      <td>4.5555</td>\n",
       "      <td>2025-05-30</td>\n",
       "    </tr>\n",
       "    <tr>\n",
       "      <th>7</th>\n",
       "      <td>euro</td>\n",
       "      <td>EUR</td>\n",
       "      <td>4.2507</td>\n",
       "      <td>2025-05-30</td>\n",
       "    </tr>\n",
       "    <tr>\n",
       "      <th>1</th>\n",
       "      <td>dolar amerykański</td>\n",
       "      <td>USD</td>\n",
       "      <td>3.7537</td>\n",
       "      <td>2025-05-30</td>\n",
       "    </tr>\n",
       "  </tbody>\n",
       "</table>\n",
       "</div>"
      ],
      "text/plain": [
       "             currency code     mid        date\n",
       "32          SDR (MFW)  XDR  5.1046  2025-05-30\n",
       "10     funt szterling  GBP  5.0552  2025-05-30\n",
       "9   frank szwajcarski  CHF  4.5555  2025-05-30\n",
       "7                euro  EUR  4.2507  2025-05-30\n",
       "1   dolar amerykański  USD  3.7537  2025-05-30"
      ]
     },
     "execution_count": 201,
     "metadata": {},
     "output_type": "execute_result"
    }
   ],
   "source": [
    "max_value"
   ]
  },
  {
   "cell_type": "code",
   "execution_count": 202,
   "id": "3b82d0e1",
   "metadata": {},
   "outputs": [
    {
     "data": {
      "image/png": "[encoded data removed]",
      "text/plain": [
       "<Figure size 800x500 with 1 Axes>"
      ]
     },
     "metadata": {},
     "output_type": "display_data"
    }
   ],
   "source": [
    "plt.figure(figsize=(8,5))\n",
    "sns.barplot(data=max_value, x = 'code', y= 'mid')\n",
    "plt.title('TOP 5 max currency value')\n",
    "plt.xlabel('kod waluty')\n",
    "plt.ylabel('wartość wlauty')\n",
    "plt.savefig(f'visuals/TOP_5_max_value_currency_{today}.png')\n",
    "plt.show()\n"
   ]
  },
  {
   "cell_type": "code",
   "execution_count": 203,
   "id": "c5a94f3c",
   "metadata": {},
   "outputs": [
    {
     "data": {
      "text/html": [
       "<div>\n",
       "<style scoped>\n",
       "    .dataframe tbody tr th:only-of-type {\n",
       "        vertical-align: middle;\n",
       "    }\n",
       "\n",
       "    .dataframe tbody tr th {\n",
       "        vertical-align: top;\n",
       "    }\n",
       "\n",
       "    .dataframe thead th {\n",
       "        text-align: right;\n",
       "    }\n",
       "</style>\n",
       "<table border=\"1\" class=\"dataframe\">\n",
       "  <thead>\n",
       "    <tr style=\"text-align: right;\">\n",
       "      <th></th>\n",
       "      <th>currency</th>\n",
       "      <th>code</th>\n",
       "      <th>mid</th>\n",
       "      <th>date</th>\n",
       "    </tr>\n",
       "  </thead>\n",
       "  <tbody>\n",
       "    <tr>\n",
       "      <th>28</th>\n",
       "      <td>rupia indonezyjska</td>\n",
       "      <td>IDR</td>\n",
       "      <td>0.000230</td>\n",
       "      <td>2025-05-30</td>\n",
       "    </tr>\n",
       "    <tr>\n",
       "      <th>30</th>\n",
       "      <td>won południowokoreański</td>\n",
       "      <td>KRW</td>\n",
       "      <td>0.002720</td>\n",
       "      <td>2025-05-30</td>\n",
       "    </tr>\n",
       "    <tr>\n",
       "      <th>22</th>\n",
       "      <td>peso chilijskie</td>\n",
       "      <td>CLP</td>\n",
       "      <td>0.004010</td>\n",
       "      <td>2025-05-30</td>\n",
       "    </tr>\n",
       "    <tr>\n",
       "      <th>8</th>\n",
       "      <td>forint (Węgry)</td>\n",
       "      <td>HUF</td>\n",
       "      <td>0.010520</td>\n",
       "      <td>2025-05-30</td>\n",
       "    </tr>\n",
       "    <tr>\n",
       "      <th>12</th>\n",
       "      <td>jen (Japonia)</td>\n",
       "      <td>JPY</td>\n",
       "      <td>0.026056</td>\n",
       "      <td>2025-05-30</td>\n",
       "    </tr>\n",
       "  </tbody>\n",
       "</table>\n",
       "</div>"
      ],
      "text/plain": [
       "                   currency code       mid        date\n",
       "28       rupia indonezyjska  IDR  0.000230  2025-05-30\n",
       "30  won południowokoreański  KRW  0.002720  2025-05-30\n",
       "22          peso chilijskie  CLP  0.004010  2025-05-30\n",
       "8            forint (Węgry)  HUF  0.010520  2025-05-30\n",
       "12            jen (Japonia)  JPY  0.026056  2025-05-30"
      ]
     },
     "execution_count": 203,
     "metadata": {},
     "output_type": "execute_result"
    }
   ],
   "source": [
    "min_value"
   ]
  },
  {
   "cell_type": "code",
   "execution_count": 204,
   "id": "f8c23fc2",
   "metadata": {},
   "outputs": [
    {
     "data": {
      "image/png": "[encoded data removed]",
      "text/plain": [
       "<Figure size 800x500 with 1 Axes>"
      ]
     },
     "metadata": {},
     "output_type": "display_data"
    }
   ],
   "source": [
    "plt.figure(figsize=(8,5))\n",
    "sns.barplot(data=min_value, x='code', y='mid')\n",
    "plt.title('TOP 5 min currency value')\n",
    "plt.xlabel('kod waluty')\n",
    "plt.ylabel('wartość waluty')\n",
    "plt.savefig(f'visuals/TOP_5_min_value_currency_{today}.png')\n",
    "plt.show()\n"
   ]
  },
  {
   "cell_type": "code",
   "execution_count": null,
   "id": "e3d49fb6",
   "metadata": {},
   "outputs": [],
   "source": []
  }
 ],
 "metadata": {
  "kernelspec": {
   "display_name": "Python 3",
   "language": "python",
   "name": "python3"
  },
  "language_info": {
   "codemirror_mode": {
    "name": "ipython",
    "version": 3
   },
   "file_extension": ".py",
   "mimetype": "text/x-python",
   "name": "python",
   "nbconvert_exporter": "python",
   "pygments_lexer": "ipython3",
   "version": "3.13.1"
  }
 },
 "nbformat": 4,
 "nbformat_minor": 5
}
